{
 "cells": [
  {
   "cell_type": "markdown",
   "metadata": {},
   "source": [
    "`try` /`except` /`finally`\n",
    "==========================\n",
    "\n",
    "\"_Unified try Example_\" del capítulo 34 _Exception Coding Details_ (pag. 1105) del libro Learning Python.\n",
    "\n",
    "## `try` statement syntax\n",
    "\n",
    "La sentencia `try` statement must have either an except or a finally, and the order of its parts must be like this:\n",
    "\n",
    "Formato 1:\n",
    "\n",
    "```\n",
    "try:\n",
    "    statements\n",
    "except [type [as value]]:\n",
    "    statements\n",
    "[except [type [as value]]:\n",
    "    statements]* \n",
    "[else:\n",
    "    statements] \n",
    "[finally:\n",
    "    statements]\n",
    "```\n",
    "\n",
    "Formato 2:\n",
    "\n",
    "```\n",
    "try:\n",
    "    statements\n",
    "finally:\n",
    "    statements\n",
    "```"
   ]
  },
  {
   "cell_type": "markdown",
   "metadata": {},
   "source": [
    "### try ejemplo"
   ]
  },
  {
   "cell_type": "code",
   "execution_count": 2,
   "metadata": {},
   "outputs": [
    {
     "name": "stdout",
     "output_type": "stream",
     "text": [
      "---------------------------------------------\n",
      "EXCEPTION RAISED AND CAUGHT\n",
      "except run\n",
      "finally run\n",
      "after run\n"
     ]
    }
   ],
   "source": [
    "sep = '-' * 45 + '\\n'\n",
    "print(sep + 'EXCEPTION RAISED AND CAUGHT')\n",
    "try:\n",
    "    x = 'spam'[99]\n",
    "except IndexError:\n",
    "    print('except run') \n",
    "finally:\n",
    "    print('finally run') \n",
    "print('after run')"
   ]
  },
  {
   "cell_type": "code",
   "execution_count": 3,
   "metadata": {},
   "outputs": [
    {
     "name": "stdout",
     "output_type": "stream",
     "text": [
      "---------------------------------------------\n",
      "NO EXCEPTION RAISED\n",
      "finally run\n",
      "after run\n"
     ]
    }
   ],
   "source": [
    "print(sep + 'NO EXCEPTION RAISED')\n",
    "try:\n",
    "    x = 'spam'[3]\n",
    "except IndexError:\n",
    "    print('except run') \n",
    "finally:\n",
    "    print('finally run')\n",
    "print('after run')"
   ]
  },
  {
   "cell_type": "code",
   "execution_count": 4,
   "metadata": {},
   "outputs": [
    {
     "name": "stdout",
     "output_type": "stream",
     "text": [
      "---------------------------------------------\n",
      "NO EXCEPTION RAISED, WITH ELSE\n",
      "else run\n",
      "finally run\n",
      "after run\n"
     ]
    }
   ],
   "source": [
    "print(sep + 'NO EXCEPTION RAISED, WITH ELSE')\n",
    "try:\n",
    "    x = 'spam'[3]\n",
    "except IndexError:\n",
    "    print('except run')\n",
    "else:\n",
    "    print('else run')\n",
    "finally:\n",
    "    print('finally run')\n",
    "print('after run')"
   ]
  },
  {
   "cell_type": "code",
   "execution_count": null,
   "metadata": {},
   "outputs": [],
   "source": [
    "print(sep + 'EXCEPTION RAISED BUT NOT CAUGHT')\n",
    "try:\n",
    "    x=1 /0\n",
    "except IndexError:\n",
    "    print('except run')\n",
    "finally:\n",
    "    print('finally run')\n",
    "print('after run')"
   ]
  },
  {
   "cell_type": "markdown",
   "metadata": {},
   "source": [
    "```py\n",
    "---------------------------------------------------------------------------\n",
    "ZeroDivisionError                         Traceback (most recent call last)\n",
    "Cell In[5], line 3\n",
    "      1 print(sep + 'EXCEPTION RAISED BUT NOT CAUGHT')\n",
    "      2 try:\n",
    "----> 3     x=1 /0\n",
    "      4 except IndexError:\n",
    "      5     print('except run')\n",
    "\n",
    "ZeroDivisionError: division by zero\"\n",
    "```"
   ]
  }
 ],
 "metadata": {
  "kernelspec": {
   "display_name": "Python 3",
   "language": "python",
   "name": "python3"
  },
  "language_info": {
   "codemirror_mode": {
    "name": "ipython",
    "version": 3
   },
   "file_extension": ".py",
   "mimetype": "text/x-python",
   "name": "python",
   "nbconvert_exporter": "python",
   "pygments_lexer": "ipython3",
   "version": "3.11.5"
  }
 },
 "nbformat": 4,
 "nbformat_minor": 2
}
