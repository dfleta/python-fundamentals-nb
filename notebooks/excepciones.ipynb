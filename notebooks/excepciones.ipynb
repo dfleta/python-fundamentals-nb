{
 "cells": [
  {
   "cell_type": "markdown",
   "metadata": {},
   "source": [
    "`try` /`except` /`finally`\n",
    "==========================\n",
    "\n",
    "\"_Unified try Example_\" del capítulo 34 _Exception Coding Details_ (pag. 1105) del libro Learning Python.\n",
    "\n",
    "## Sintaxis de la sentencia `try`\n",
    "\n",
    "La sentencia `try` debe estar acompañada de `except` o de `finally`, y el orden de las partes debe ser el siguiente.\n",
    "\n",
    "Recuerda que en la documentación sobre líneas de comandos y código en general los símbolos `[]` indican que ese argumento es opcional y no se requiere para que la sentencia se ejecute.\n",
    "\n",
    "Además, el metacarácter `*` indica que la sentencia `except` puede aparecer múltiples veces:\n",
    "\n",
    "```py\n",
    "try:\n",
    "    statements\n",
    "except [type [as value]]:\n",
    "    statements\n",
    "[except [type [as value]]:\n",
    "    statements]* \n",
    "[else:\n",
    "    statements] \n",
    "[finally:\n",
    "    statements]\n",
    "```\n",
    "\n",
    "o ninguna:\n",
    "\n",
    "```py\n",
    "try:\n",
    "    statements\n",
    "finally:\n",
    "    statements\n",
    "```"
   ]
  },
  {
   "cell_type": "markdown",
   "metadata": {},
   "source": [
    "## Ejemplo try"
   ]
  },
  {
   "cell_type": "code",
   "execution_count": 2,
   "metadata": {},
   "outputs": [
    {
     "name": "stdout",
     "output_type": "stream",
     "text": [
      "---------------------------------------------\n",
      "EXCEPTION RAISED AND CAUGHT\n",
      "except run\n",
      "finally run\n",
      "after run\n"
     ]
    }
   ],
   "source": [
    "sep = '-' * 45 + '\\n'\n",
    "print(sep + 'EXCEPTION RAISED AND CAUGHT')\n",
    "try:\n",
    "    x = 'spam'[99]\n",
    "except IndexError:\n",
    "    print('except run') \n",
    "finally:\n",
    "    print('finally run') \n",
    "print('after run')"
   ]
  },
  {
   "cell_type": "code",
   "execution_count": 3,
   "metadata": {},
   "outputs": [
    {
     "name": "stdout",
     "output_type": "stream",
     "text": [
      "---------------------------------------------\n",
      "NO EXCEPTION RAISED\n",
      "finally run\n",
      "after run\n"
     ]
    }
   ],
   "source": [
    "print(sep + 'NO EXCEPTION RAISED')\n",
    "try:\n",
    "    x = 'spam'[3]\n",
    "except IndexError:\n",
    "    print('except run') \n",
    "finally:\n",
    "    print('finally run')\n",
    "print('after run')"
   ]
  },
  {
   "cell_type": "code",
   "execution_count": 4,
   "metadata": {},
   "outputs": [
    {
     "name": "stdout",
     "output_type": "stream",
     "text": [
      "---------------------------------------------\n",
      "NO EXCEPTION RAISED, WITH ELSE\n",
      "else run\n",
      "finally run\n",
      "after run\n"
     ]
    }
   ],
   "source": [
    "print(sep + 'NO EXCEPTION RAISED, WITH ELSE')\n",
    "try:\n",
    "    x = 'spam'[3]\n",
    "except IndexError:\n",
    "    print('except run')\n",
    "else:\n",
    "    print('else run')\n",
    "finally:\n",
    "    print('finally run')\n",
    "print('after run')"
   ]
  },
  {
   "cell_type": "code",
   "execution_count": null,
   "metadata": {},
   "outputs": [],
   "source": [
    "print(sep + 'EXCEPTION RAISED BUT NOT CAUGHT')\n",
    "try:\n",
    "    x=1 /0\n",
    "except IndexError:\n",
    "    print('except run')\n",
    "finally:\n",
    "    print('finally run')\n",
    "print('after run')"
   ]
  },
  {
   "cell_type": "markdown",
   "metadata": {},
   "source": [
    "```py\n",
    "---------------------------------------------------------------------------\n",
    "ZeroDivisionError                         Traceback (most recent call last)\n",
    "Cell In[5], line 3\n",
    "      1 print(sep + 'EXCEPTION RAISED BUT NOT CAUGHT')\n",
    "      2 try:\n",
    "----> 3     x=1 /0\n",
    "      4 except IndexError:\n",
    "      5     print('except run')\n",
    "\n",
    "ZeroDivisionError: division by zero\"\n",
    "```"
   ]
  },
  {
   "cell_type": "markdown",
   "metadata": {},
   "source": [
    "## Jerarquía de Excepciones\n",
    "\n",
    "Consulta las excepciones en:\n",
    "\n",
    "[Built-in Exceptions](https://docs.python.org/3/library/exceptions.html)\n",
    "\n",
    "La jerarquía de clases para las excepciones _built-in_ es:\n",
    "\n",
    "```sh\n",
    "BaseException\n",
    " ├── BaseExceptionGroup\n",
    " ├── GeneratorExit\n",
    " ├── KeyboardInterrupt\n",
    " ├── SystemExit\n",
    " └── Exception\n",
    "      ├── ArithmeticError\n",
    "      │    ├── FloatingPointError\n",
    "      │    ├── OverflowError\n",
    "      │    └── ZeroDivisionError\n",
    "      ├── AssertionError\n",
    "      ├── AttributeError\n",
    "      ├── BufferError\n",
    "      ├── EOFError\n",
    "      ├── ExceptionGroup [BaseExceptionGroup]\n",
    "      ├── ImportError\n",
    "      │    └── ModuleNotFoundError\n",
    "      ├── LookupError\n",
    "      │    ├── IndexError\n",
    "      │    └── KeyError\n",
    "      ├── MemoryError\n",
    "      ├── NameError\n",
    "      │    └── UnboundLocalError\n",
    "      ├── OSError\n",
    "      │    ├── BlockingIOError\n",
    "      │    ├── ChildProcessError\n",
    "      │    ├── ConnectionError\n",
    "      │    │    ├── BrokenPipeError\n",
    "      │    │    ├── ConnectionAbortedError\n",
    "      │    │    ├── ConnectionRefusedError\n",
    "      │    │    └── ConnectionResetError\n",
    "      │    ├── FileExistsError\n",
    "      │    ├── FileNotFoundError\n",
    "      │    ├── InterruptedError\n",
    "      │    ├── IsADirectoryError\n",
    "      │    ├── NotADirectoryError\n",
    "      │    ├── PermissionError\n",
    "      │    ├── ProcessLookupError\n",
    "      │    └── TimeoutError\n",
    "      ├── ReferenceError\n",
    "      ├── RuntimeError\n",
    "      │    ├── NotImplementedError\n",
    "      │    ├── PythonFinalizationError\n",
    "      │    └── RecursionError\n",
    "      ├── StopAsyncIteration\n",
    "      ├── StopIteration\n",
    "      ├── SyntaxError\n",
    "      │    └── IndentationError\n",
    "      │         └── TabError\n",
    "      ├── SystemError\n",
    "      ├── TypeError\n",
    "      ├── ValueError\n",
    "      │    └── UnicodeError\n",
    "      │         ├── UnicodeDecodeError\n",
    "      │         ├── UnicodeEncodeError\n",
    "      │         └── UnicodeTranslateError\n",
    "      └── Warning\n",
    "           ├── BytesWarning\n",
    "           ├── DeprecationWarning\n",
    "           ├── EncodingWarning\n",
    "           ├── FutureWarning\n",
    "           ├── ImportWarning\n",
    "           ├── PendingDeprecationWarning\n",
    "           ├── ResourceWarning\n",
    "           ├── RuntimeWarning\n",
    "           ├── SyntaxWarning\n",
    "           ├── UnicodeWarning\n",
    "           └── UserWarning\n",
    "```"
   ]
  }
 ],
 "metadata": {
  "kernelspec": {
   "display_name": "Python 3",
   "language": "python",
   "name": "python3"
  },
  "language_info": {
   "codemirror_mode": {
    "name": "ipython",
    "version": 3
   },
   "file_extension": ".py",
   "mimetype": "text/x-python",
   "name": "python",
   "nbconvert_exporter": "python",
   "pygments_lexer": "ipython3",
   "version": "3.11.5"
  }
 },
 "nbformat": 4,
 "nbformat_minor": 2
}
