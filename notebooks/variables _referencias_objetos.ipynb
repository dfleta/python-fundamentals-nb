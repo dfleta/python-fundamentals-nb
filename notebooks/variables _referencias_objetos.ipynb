{
 "cells": [
  {
   "cell_type": "markdown",
   "metadata": {},
   "source": [
    "# Chapter 6: The Dynamic Typing Interlude\n",
    "\n",
    "#### Extractos de codigo del libro Learning Python 5th Ed. by Mark Lutz "
   ]
  },
  {
   "cell_type": "markdown",
   "metadata": {},
   "source": [
    "## OBJETOS INMUTABLES\n",
    "![Figura cambio de referencia variables](../images/03%20cambios%20de%20referencia.png)"
   ]
  },
  {
   "cell_type": "code",
   "execution_count": 1,
   "metadata": {},
   "outputs": [
    {
     "name": "stdout",
     "output_type": "stream",
     "text": [
      "b es  3\n",
      "b es  3\n"
     ]
    }
   ],
   "source": [
    "\n",
    "a = 3\n",
    "b = a               # b es 3\n",
    "print(\"b es \", b)\n",
    "\n",
    "a = 3\n",
    "b = a\n",
    "a = 'spam'          # b es 3\n",
    "print(\"b es \", b)"
   ]
  },
  {
   "cell_type": "markdown",
   "metadata": {},
   "source": [
    "Los objetos `integer` no son mutables:\n"
   ]
  },
  {
   "cell_type": "code",
   "execution_count": 3,
   "metadata": {},
   "outputs": [
    {
     "name": "stdout",
     "output_type": "stream",
     "text": [
      "b es  3\n"
     ]
    }
   ],
   "source": [
    "a = 3\n",
    "b = a\n",
    "a = a + 2              # b es 3\n",
    "print(\"b es \", b)"
   ]
  },
  {
   "cell_type": "markdown",
   "metadata": {},
   "source": [
    "## OBJETOS MUTABLES\n",
    "\n",
    "### Listas"
   ]
  },
  {
   "cell_type": "code",
   "execution_count": 4,
   "metadata": {},
   "outputs": [
    {
     "name": "stdout",
     "output_type": "stream",
     "text": [
      "L =  [24, 3, 4]\n",
      "M =  [24, 3, 4]\n"
     ]
    }
   ],
   "source": [
    "\n",
    "L = [2, 3, 4]\t    # A mutable object\n",
    "M = L\t\t\t    # Make a reference to the same object\n",
    "L[0] = 24 \t\t    # An in-place change\n",
    "\n",
    "print(\"L = \", L)    # [24, 3, 4]\n",
    "print(\"M = \", M)    # [24, 3, 4]"
   ]
  },
  {
   "cell_type": "markdown",
   "metadata": {},
   "source": [
    "Copia de objetos en vez de referencia:\n"
   ]
  },
  {
   "cell_type": "code",
   "execution_count": 5,
   "metadata": {},
   "outputs": [
    {
     "name": "stdout",
     "output_type": "stream",
     "text": [
      "L =  [24, 3, 4]\n",
      "M =  [2, 3, 4]\n"
     ]
    }
   ],
   "source": [
    "\n",
    "L = [2, 3, 4]\n",
    "M = L[:]\t\t    # Make a copy of L (or list(L), copy.copy(L), etc.)\n",
    "L[0] = 24\n",
    "\n",
    "print(\"L = \", L)    # [24, 3, 4]\n",
    "\n",
    "print(\"M = \", M)    # [2, 3, 4]  M is not changed"
   ]
  },
  {
   "cell_type": "markdown",
   "metadata": {},
   "source": [
    "### Shared References and Equality\n",
    "- Operador `==` igualdad de valores.\n",
    "- Operador `is` identidad de objetos."
   ]
  },
  {
   "cell_type": "code",
   "execution_count": 6,
   "metadata": {},
   "outputs": [
    {
     "data": {
      "text/plain": [
       "True"
      ]
     },
     "execution_count": 6,
     "metadata": {},
     "output_type": "execute_result"
    }
   ],
   "source": [
    "\n",
    "L = [1, 2, 3]\n",
    "M = L \t\t\t    # M and L reference the same object\n",
    "\n",
    "L == M \t\t\t    # True: Same values => operador igualdad de valores\n",
    "L is M \t\t\t    # True: operador identidad de objetos: compara las referencias (los punteros)\n"
   ]
  },
  {
   "cell_type": "code",
   "execution_count": 8,
   "metadata": {},
   "outputs": [
    {
     "name": "stdout",
     "output_type": "stream",
     "text": [
      "L == M True\n",
      "L is M False\n"
     ]
    }
   ],
   "source": [
    "L = [1, 2, 3]\n",
    "M = [1, 2, 3]\t    # M and L reference different objects\n",
    "\n",
    "print(\n",
    "    \"L == M\",\n",
    "    L == M \t\t\t# True: Same values\n",
    ")\n",
    "\n",
    "print(\n",
    "    \"L is M\", \t    # False: operador identidad de objetos: compara las referencias (los punteros)\n",
    "    L is M\n",
    ")\n"
   ]
  },
  {
   "cell_type": "markdown",
   "metadata": {},
   "source": [
    "#### CACHE\n",
    "\n",
    "Because small integers and strings are cached and reused, though, is tells us they reference the same single object.\n"
   ]
  },
  {
   "cell_type": "code",
   "execution_count": 10,
   "metadata": {},
   "outputs": [
    {
     "data": {
      "text/plain": [
       "True"
      ]
     },
     "execution_count": 10,
     "metadata": {},
     "output_type": "execute_result"
    }
   ],
   "source": [
    "\n",
    "X = 42\n",
    "Y = 42\t\t    # Should be two different objects\n",
    "\n",
    "X  == Y         # True\n",
    "X is Y \t\t    # True: Same object anyhow: caching at work!!\n"
   ]
  },
  {
   "cell_type": "markdown",
   "metadata": {},
   "source": [
    "Averiguar el numero de refencias a un objeto:\n"
   ]
  },
  {
   "cell_type": "code",
   "execution_count": 11,
   "metadata": {},
   "outputs": [
    {
     "data": {
      "text/plain": [
       "3505"
      ]
     },
     "execution_count": 11,
     "metadata": {},
     "output_type": "execute_result"
    }
   ],
   "source": [
    "import sys\n",
    "sys.getrefcount(1)\t\t# number of pointers to this shared piece of memory"
   ]
  }
 ],
 "metadata": {
  "kernelspec": {
   "display_name": "Python 3",
   "language": "python",
   "name": "python3"
  },
  "language_info": {
   "codemirror_mode": {
    "name": "ipython",
    "version": 3
   },
   "file_extension": ".py",
   "mimetype": "text/x-python",
   "name": "python",
   "nbconvert_exporter": "python",
   "pygments_lexer": "ipython3",
   "version": "3.8.10"
  },
  "orig_nbformat": 2
 },
 "nbformat": 4,
 "nbformat_minor": 2
}
