{
 "cells": [
  {
   "cell_type": "markdown",
   "metadata": {},
   "source": [
    "CHAPTER 20: Comprehensions and Generations\n",
    "==========================================\n",
    "\n",
    "## List Comprehensions and Functional Tools\n",
    "\n",
    "Per Python history, list comprehensions were originally inspired by a similar tool in the functional programming language **Haskell**, around the time of Python 2.0. \n",
    "\n",
    "In short, **list comprehensions apply an arbitrary expression to items in an iterable**, rather than applying a function. Accordingly, they can be more general tools. In later releases, the comprehension was extended to other roles—sets, dictionaries, and even the value generator expressions.\n",
    "\n",
    "### List Comprehensions Versus map\n",
    "\n",
    "Python’s built-in `ord` function returns the integer code point of a single character (the `chr` built-in is the converse—it returns the character for an integer code point)."
   ]
  },
  {
   "cell_type": "code",
   "execution_count": 26,
   "metadata": {},
   "outputs": [
    {
     "data": {
      "text/plain": [
       "115"
      ]
     },
     "execution_count": 26,
     "metadata": {},
     "output_type": "execute_result"
    }
   ],
   "source": [
    "ord('s')\n",
    "# 115"
   ]
  },
  {
   "cell_type": "markdown",
   "metadata": {},
   "source": [
    "Suppose we wish to collect the ASCII codes of all characters in an entire string."
   ]
  },
  {
   "cell_type": "code",
   "execution_count": 27,
   "metadata": {},
   "outputs": [
    {
     "data": {
      "text/plain": [
       "[115, 112, 97, 109]"
      ]
     },
     "execution_count": 27,
     "metadata": {},
     "output_type": "execute_result"
    }
   ],
   "source": [
    "res = []\n",
    "for x in 'spam':\n",
    "\tres.append(ord(x)) \t# Manual results collection\n",
    "res\n",
    "# [115, 112, 97, 109]"
   ]
  },
  {
   "cell_type": "code",
   "execution_count": 28,
   "metadata": {},
   "outputs": [
    {
     "data": {
      "text/plain": [
       "[115, 112, 97, 109]"
      ]
     },
     "execution_count": 28,
     "metadata": {},
     "output_type": "execute_result"
    }
   ],
   "source": [
    "res = list(map(ord, 'spam'))\n",
    "res\n",
    "# [115, 112, 97, 109]"
   ]
  },
  {
   "cell_type": "markdown",
   "metadata": {},
   "source": [
    "While `map` maps a function over an iterable, __list comprehensions map an expression over a sequence or other iterable__:"
   ]
  },
  {
   "cell_type": "code",
   "execution_count": 29,
   "metadata": {},
   "outputs": [
    {
     "data": {
      "text/plain": [
       "[115, 112, 97, 109]"
      ]
     },
     "execution_count": 29,
     "metadata": {},
     "output_type": "execute_result"
    }
   ],
   "source": [
    "res = [ord(x) for x in 'spam']\t\t# Apply expression to sequence (or other)\n",
    "res\n",
    "# [115, 112, 97, 109]"
   ]
  },
  {
   "cell_type": "markdown",
   "metadata": {},
   "source": [
    "__List comprehensions collect the results of applying an arbitrary expression to an iterable of values and return them in a new list__. Syntactically, list comprehensions are enclosed in square brackets to remind you that they construct lists.\n",
    "\n",
    "List comprehensions become more convenient, though, when we wish to apply an arbitrary expression to an iterable instead of a function:"
   ]
  },
  {
   "cell_type": "code",
   "execution_count": 30,
   "metadata": {},
   "outputs": [
    {
     "data": {
      "text/plain": [
       "[0, 1, 4, 9, 16, 25, 36, 49, 64, 81]"
      ]
     },
     "execution_count": 30,
     "metadata": {},
     "output_type": "execute_result"
    }
   ],
   "source": [
    "[x ** 2 for x in range(10)]\n",
    "# [0, 1, 4, 9, 16, 25, 36, 49, 64, 81]"
   ]
  },
  {
   "cell_type": "markdown",
   "metadata": {},
   "source": [
    "To do similar work with a `map` call, we would probably need to invent a little function to implement the square operation. \n",
    "Because we won’t need this function elsewhere, we’d typically (but not necessarily) code it inline, with a `lambda`, instead of using a `def` statement elsewhere:"
   ]
  },
  {
   "cell_type": "code",
   "execution_count": 31,
   "metadata": {},
   "outputs": [
    {
     "data": {
      "text/plain": [
       "[0, 1, 4, 9, 16, 25, 36, 49, 64, 81]"
      ]
     },
     "execution_count": 31,
     "metadata": {},
     "output_type": "execute_result"
    }
   ],
   "source": [
    "list(map((lambda x: x ** 2), range(10)))\n",
    "# [0, 1, 4, 9, 16, 25, 36, 49, 64, 81]"
   ]
  },
  {
   "cell_type": "markdown",
   "metadata": {},
   "source": [
    "For more advanced kinds of expressions, though, list comprehensions will often require considerably less typing."
   ]
  },
  {
   "cell_type": "code",
   "execution_count": 32,
   "metadata": {},
   "outputs": [
    {
     "data": {
      "text/plain": [
       "[0, 2, 4]"
      ]
     },
     "execution_count": 32,
     "metadata": {},
     "output_type": "execute_result"
    }
   ],
   "source": [
    "### Adding Tests and Nested Loops: `filter`\n",
    "\n",
    "[x for x in range(5) if x % 2 == 0]\n",
    "# [0, 2, 4]\n",
    "\n",
    "list(filter((lambda x: x % 2 == 0), range(5)))\n",
    "# [0, 2, 4]\n",
    "\n",
    "res = []\n",
    "for x in range(5):\n",
    "    if x % 2 == 0:\n",
    "        res.append(x)\n",
    "res\n",
    "# [0, 2, 4]\n"
   ]
  },
  {
   "cell_type": "markdown",
   "metadata": {},
   "source": [
    "However, we can combine an `if` clause and an arbitrary expression in our list comprehension, to give it the effect of a `filter` and a `map`, in a single expression:"
   ]
  },
  {
   "cell_type": "code",
   "execution_count": 33,
   "metadata": {},
   "outputs": [
    {
     "data": {
      "text/plain": [
       "[0, 4, 16, 36, 64]"
      ]
     },
     "execution_count": 33,
     "metadata": {},
     "output_type": "execute_result"
    }
   ],
   "source": [
    "[x ** 2 for x in range(10) if x % 2 == 0]\n",
    "# [0, 4, 16, 36, 64]"
   ]
  },
  {
   "cell_type": "markdown",
   "metadata": {},
   "source": [
    "The equivalent map call would require a lot more work on our part:"
   ]
  },
  {
   "cell_type": "code",
   "execution_count": 34,
   "metadata": {},
   "outputs": [
    {
     "data": {
      "text/plain": [
       "[0, 4, 16, 36, 64]"
      ]
     },
     "execution_count": 34,
     "metadata": {},
     "output_type": "execute_result"
    }
   ],
   "source": [
    "list( map((lambda x: x**2), filter((lambda x: x % 2 == 0), range(10))) )\n",
    "# [0, 4, 16, 36, 64]"
   ]
  },
  {
   "cell_type": "markdown",
   "metadata": {},
   "source": [
    "#### Formal comprehension syntax\n",
    "\n",
    "`[ expression for target in iterable ]`\n",
    "\n",
    "```Python\n",
    "[ expression for target1 in iterable1 if condition1\n",
    "\t\t\t for target2 in iterable2 if condition2 ...\n",
    "\t\t\t for targetN in iterableN if conditionN ]\n",
    "```\n",
    "\n",
    "This same syntax is inherited by __set and dictionary comprehensions__ as well as the generator expressions coming up, though these use different enclosing characters (__curly braces or often optional parentheses__), and the __dictionary comprehension begins with two expressions separated by a colon (for key and value)__."
   ]
  },
  {
   "cell_type": "code",
   "execution_count": 35,
   "metadata": {},
   "outputs": [
    {
     "data": {
      "text/plain": [
       "[100, 200, 300, 101, 201, 301, 102, 202, 302]"
      ]
     },
     "execution_count": 35,
     "metadata": {},
     "output_type": "execute_result"
    }
   ],
   "source": [
    "res = [x + y for x in [0, 1, 2] for y in [100, 200, 300]]\n",
    "res\n",
    "# [100, 200, 300, 101, 201, 301, 102, 202, 302]\n",
    "\n",
    "res = []\n",
    "for x in [0, 1, 2]:\n",
    "\tfor y in [100, 200, 300]:\n",
    "\t\tres.append(x + y)\n",
    "res\n",
    "# [100, 200, 300, 101, 201, 301, 102, 202, 302]"
   ]
  },
  {
   "cell_type": "markdown",
   "metadata": {},
   "source": [
    "Although list comprehensions construct list results, remember that they can __iterate over any sequence or other iterable type__."
   ]
  },
  {
   "cell_type": "code",
   "execution_count": 36,
   "metadata": {},
   "outputs": [
    {
     "data": {
      "text/plain": [
       "['sS',\n",
       " 'sP',\n",
       " 'sA',\n",
       " 'sM',\n",
       " 'pS',\n",
       " 'pP',\n",
       " 'pA',\n",
       " 'pM',\n",
       " 'aS',\n",
       " 'aP',\n",
       " 'aA',\n",
       " 'aM',\n",
       " 'mS',\n",
       " 'mP',\n",
       " 'mA',\n",
       " 'mM']"
      ]
     },
     "execution_count": 36,
     "metadata": {},
     "output_type": "execute_result"
    }
   ],
   "source": [
    "[x + y for x in 'spam' for y in 'SPAM']\n",
    "# ['sS', 'sP', 'sA', 'sM', 'pS', 'pP', 'pA', 'pM','aS', 'aP', 'aA', 'aM', 'mS', 'mP', 'mA', 'mM']"
   ]
  },
  {
   "cell_type": "markdown",
   "metadata": {},
   "source": [
    "Each `for` clause can have an associated `if` filter, no matter how deeply the loops are nested."
   ]
  },
  {
   "cell_type": "code",
   "execution_count": 37,
   "metadata": {},
   "outputs": [
    {
     "data": {
      "text/plain": [
       "['sP', 'sA', 'mP', 'mA']"
      ]
     },
     "execution_count": 37,
     "metadata": {},
     "output_type": "execute_result"
    }
   ],
   "source": [
    "[x + y for x in 'spam' if x in 'sm' for y in 'SPAM' if y in ('P', 'A')]\n",
    "# ['sP', 'sA', 'mP', 'mA']"
   ]
  },
  {
   "cell_type": "code",
   "execution_count": 38,
   "metadata": {},
   "outputs": [
    {
     "data": {
      "text/plain": [
       "['sP2', 'sP3', 'sA2', 'sA3', 'mP2', 'mP3', 'mA2', 'mA3']"
      ]
     },
     "execution_count": 38,
     "metadata": {},
     "output_type": "execute_result"
    }
   ],
   "source": [
    "[x + y + z \tfor x in 'spam' if x in 'sm'\n",
    "\t\t\t\tfor y in 'SPAM' if y in ('P', 'A')\n",
    "\t\t\t\tfor z in '123' \tif z > '1']\n",
    "\n",
    "# ['sP2', 'sP3', 'sA2', 'sA3', 'mP2','mP3', 'mA2', 'mA3']"
   ]
  },
  {
   "cell_type": "code",
   "execution_count": 39,
   "metadata": {},
   "outputs": [
    {
     "data": {
      "text/plain": [
       "[(0, 1), (0, 3), (2, 1), (2, 3), (4, 1), (4, 3)]"
      ]
     },
     "execution_count": 39,
     "metadata": {},
     "output_type": "execute_result"
    }
   ],
   "source": [
    "[(x, y) for x in range(5) if x % 2 == 0 for y in range(5) if y % 2 == 1]\n",
    "# [(0, 1), (0, 3), (2, 1), (2, 3), (4, 1), (4, 3)]\n",
    "\n",
    "res = []\n",
    "for x in range(5):\n",
    "\tif x % 2 == 0: \n",
    "\t\tfor y in range(5):\n",
    "\t\t\tif y % 2 == 1:\n",
    "\t\t\t\tres.append((x, y))\n",
    "res\n",
    "# [(0, 1), (0, 3), (2, 1), (2, 3), (4, 1), (4, 3)]\n"
   ]
  },
  {
   "cell_type": "markdown",
   "metadata": {},
   "source": [
    "## Example: List Comprehensions and Matrixes\n",
    "\n",
    "The following, for example, defines two 3 × 3 matrixes as lists of nested lists:"
   ]
  },
  {
   "cell_type": "code",
   "execution_count": 40,
   "metadata": {},
   "outputs": [
    {
     "data": {
      "text/plain": [
       "6"
      ]
     },
     "execution_count": 40,
     "metadata": {},
     "output_type": "execute_result"
    }
   ],
   "source": [
    "M = [[1, 2, 3],\n",
    "\t [4, 5, 6],\n",
    "\t [7, 8, 9]]\n",
    "\n",
    "N = [[2, 2, 2],\n",
    "     [3, 3, 3],\n",
    "\t [4, 4, 4]]\n",
    "\n",
    "M[1]\n",
    "# [4, 5, 6] # Row 2\n",
    "\n",
    "M[1][2]\n",
    "# Row 2, item 3"
   ]
  },
  {
   "cell_type": "markdown",
   "metadata": {},
   "source": [
    "List comprehensions are powerful tools for processing such structures, though, because they automatically scan rows and columns for us."
   ]
  },
  {
   "cell_type": "code",
   "execution_count": 41,
   "metadata": {},
   "outputs": [
    {
     "data": {
      "text/plain": [
       "[2, 5, 8]"
      ]
     },
     "execution_count": 41,
     "metadata": {},
     "output_type": "execute_result"
    }
   ],
   "source": [
    "[ row[1] for row in M ]\t\t# Column 2\n",
    "# [2, 5, 8] \n",
    "\n",
    "[ M[row][1] for row in (0, 1, 2) ]\t# Using offsets\n",
    "# [2, 5, 8]"
   ]
  },
  {
   "cell_type": "code",
   "execution_count": 42,
   "metadata": {},
   "outputs": [
    {
     "data": {
      "text/plain": [
       "[1, 5, 9]"
      ]
     },
     "execution_count": 42,
     "metadata": {},
     "output_type": "execute_result"
    }
   ],
   "source": [
    "# Recorrer la diagonal principal:\n",
    "[ M[i][i] for i in range( len(M) ) ]\t# Diagonals\n",
    "# [1, 5, 9]\n"
   ]
  },
  {
   "cell_type": "code",
   "execution_count": 43,
   "metadata": {},
   "outputs": [
    {
     "data": {
      "text/plain": [
       "[3, 5, 7]"
      ]
     },
     "execution_count": 43,
     "metadata": {},
     "output_type": "execute_result"
    }
   ],
   "source": [
    "# Recorrer la diagonal inversa:\n",
    "[ M[i][len(M)-1-i] for i in range( len(M) ) ]\n",
    "# [3, 5, 7]"
   ]
  },
  {
   "cell_type": "code",
   "execution_count": 44,
   "metadata": {},
   "outputs": [
    {
     "data": {
      "text/plain": [
       "[[11, 12, 13], [14, 15, 16]]"
      ]
     },
     "execution_count": 44,
     "metadata": {},
     "output_type": "execute_result"
    }
   ],
   "source": [
    "# Changing such a matrix in place requires assignment to offsets (use range twice if shapes differ):\n",
    "\n",
    "L = [[1, 2, 3], [4, 5, 6]]\n",
    "for i in range(len(L)):\n",
    "\tfor j in range(len(L[i])):\n",
    "\t\tL[i][j] += 10\t\t\t# Update in place\n",
    "L\n",
    "# [[11, 12, 13], [14, 15, 16]]"
   ]
  },
  {
   "cell_type": "code",
   "execution_count": 45,
   "metadata": {},
   "outputs": [
    {
     "data": {
      "text/plain": [
       "[11, 12, 13, 14, 15, 16, 17, 18, 19]"
      ]
     },
     "execution_count": 45,
     "metadata": {},
     "output_type": "execute_result"
    }
   ],
   "source": [
    "[col + 10 for row in M for col in row]\n",
    "# [11, 12, 13, 14, 15, 16, 17, 18, 19]"
   ]
  },
  {
   "cell_type": "code",
   "execution_count": 46,
   "metadata": {},
   "outputs": [
    {
     "data": {
      "text/plain": [
       "[[11, 12, 13], [14, 15, 16], [17, 18, 19]]"
      ]
     },
     "execution_count": 46,
     "metadata": {},
     "output_type": "execute_result"
    }
   ],
   "source": [
    "[ [col + 10 for col in row] for row in M]       # !!!!!!\n",
    "# [[11, 12, 13], [14, 15, 16], [17, 18, 19]]"
   ]
  },
  {
   "cell_type": "code",
   "execution_count": 47,
   "metadata": {},
   "outputs": [
    {
     "data": {
      "text/plain": [
       "[[11, 12, 13], [14, 15, 16], [17, 18, 19]]"
      ]
     },
     "execution_count": 47,
     "metadata": {},
     "output_type": "execute_result"
    }
   ],
   "source": [
    "# Esta ultima list comprehension es equivalente a:\n",
    "res = []\n",
    "for row in M:\n",
    "\ttmp = []\t\t\t# Left-nesting starts new list\n",
    "\tfor col in row:\n",
    "\t\ttmp.append(col + 10)\n",
    "\tres.append(tmp)\n",
    "res\n",
    "# [[11, 12, 13], [14, 15, 16], [17, 18, 19]]"
   ]
  },
  {
   "cell_type": "markdown",
   "metadata": {},
   "source": [
    "Finally, with a bit of creativity, we can also use list comprehensions to combine values of multiple matrixes."
   ]
  },
  {
   "cell_type": "code",
   "execution_count": 48,
   "metadata": {},
   "outputs": [
    {
     "data": {
      "text/plain": [
       "[2, 4, 6, 12, 15, 18, 28, 32, 36]"
      ]
     },
     "execution_count": 48,
     "metadata": {},
     "output_type": "execute_result"
    }
   ],
   "source": [
    "M\n",
    "# [[1, 2, 3], [4, 5, 6], [7, 8, 9]]\n",
    "\n",
    "N\n",
    "# [[2, 2, 2], [3, 3, 3], [4, 4, 4]]\n",
    "\n",
    "[ M[row][col] * N[row][col] for row in range(3) for col in range(3)]\n",
    "# [2, 4, 6, 12, 15, 18, 28, 32, 36]"
   ]
  },
  {
   "cell_type": "code",
   "execution_count": 49,
   "metadata": {},
   "outputs": [
    {
     "data": {
      "text/plain": [
       "[[2, 4, 6], [12, 15, 18], [28, 32, 36]]"
      ]
     },
     "execution_count": 49,
     "metadata": {},
     "output_type": "execute_result"
    }
   ],
   "source": [
    "[[M[row][col] * N[row][col] for col in range(3)] for row in range(3)]\n",
    "# [[2, 4, 6], [12, 15, 18], [28, 32, 36]]"
   ]
  },
  {
   "cell_type": "markdown",
   "metadata": {},
   "source": [
    "And for more fun, we can use zip to pair items to be multiplied (and because `zip` is a generator of values in 3.X, this isn’t as inefficient as it may seem):"
   ]
  },
  {
   "cell_type": "code",
   "execution_count": 50,
   "metadata": {},
   "outputs": [
    {
     "data": {
      "text/plain": [
       "[[2, 4, 6], [12, 15, 18], [28, 32, 36]]"
      ]
     },
     "execution_count": 50,
     "metadata": {},
     "output_type": "execute_result"
    }
   ],
   "source": [
    "\n",
    "[[col1 * col2 for (col1, col2) in zip(row1, row2)] for (row1, row2) in zip(M, N)]"
   ]
  },
  {
   "cell_type": "markdown",
   "metadata": {},
   "source": [
    "## Don’t Abuse List Comprehensions: KISS\n",
    "\n",
    "This book demonstrates advanced comprehensions to teach, but in the real world, using complicated and tricky code where not warranted is both __bad engineering and bad software citizenship__.\n",
    "\n",
    "Programming is not about being clever and obscure, it’s about how clearly your program communicates its purpose.\n",
    "Or, to quote from Python’s import this motto:\n",
    "\n",
    "**Simple is better than complex.**\n",
    "\n",
    "The **“keep it simple”** rule applies here as always: _code conciseness is a much less important goal than code readability_.\n",
    "\n",
    "On the other hand: _performance, conciseness, expressiveness_\n",
    "\n",
    "However, **in this case, there is currently a substantial performance advantage to the extra complexity: based on tests run under Python today, map calls can be twice as fast as equivalent for loops, and list comprehensions are often faster than map calls**. \n",
    "This speed difference can vary per usage pattern and Python, but is generally due to the fact that `map` and `list` comprehensions __run at C language speed inside the interpreter__, which is often much faster than stepping through Python for loop bytecode within the PVM.\n"
   ]
  }
 ],
 "metadata": {
  "kernelspec": {
   "display_name": "3.11",
   "language": "python",
   "name": "python3"
  },
  "language_info": {
   "codemirror_mode": {
    "name": "ipython",
    "version": 3
   },
   "file_extension": ".py",
   "mimetype": "text/x-python",
   "name": "python",
   "nbconvert_exporter": "python",
   "pygments_lexer": "ipython3",
   "version": "3.11.5"
  }
 },
 "nbformat": 4,
 "nbformat_minor": 2
}
