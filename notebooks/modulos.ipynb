{
 "cells": [
  {
   "cell_type": "markdown",
   "metadata": {},
   "source": [
    "Módulos Python\n",
    "==============\n",
    "\n",
    "![dependencias modulos en Python](../images/04%20dependencias%20modulos.png)\n",
    "\n",
    "### Creación módulos\n",
    "\n",
    "Escribe la siguiente función en un fichero llamado `modulo.py` para crear un objeto módulo con un único atributo llamado `printer`."
   ]
  },
  {
   "cell_type": "code",
   "execution_count": 1,
   "metadata": {},
   "outputs": [],
   "source": [
    "def printer(x):     # Module attribute printer\n",
    "    print(x)"
   ]
  },
  {
   "cell_type": "markdown",
   "metadata": {},
   "source": [
    "## Uso de módulos\n",
    "\n",
    "Un cliente puede usar el módulo `modulo` que acabamos de crear ejecutando una sentencia `import` o `from`. \n",
    "\n",
    "Ambas sentencias encuentran, compilan y ejecutan el código del módulo, sólo si no ha sido cargado previamente.\n",
    "\n",
    "`import` carga el modulo como un conjunto, por lo que debes incluir el nombre del módulo cuando nombras a sus atributos; por el contrario, `from` carga (o copia) nombres específicos del módulo."
   ]
  },
  {
   "cell_type": "markdown",
   "metadata": {},
   "source": [
    "### sys.path\n",
    "\n",
    "Cuando ejecuto un programa python el directorio desde el que se ejecuta la búsqueda de modulos es el directorio desde el que se invoca en consola `python3`.\n",
    "\n",
    "La búsqueda de módulos se inicializa cuando se inicia Python. Se puede acceder a esta ruta de búsqueda de módulos mediante `sys.path`.\n",
    "\n",
    "Añado `..` a esta ruta para que las importaciones `src.modulo` se resuelvan correctamente ya que hay que \"subir\" hasta el directorio padre del proyecto para encontrar el directorio `src` (es imposible encontrarlo en `notebooks`)."
   ]
  },
  {
   "cell_type": "code",
   "execution_count": 2,
   "metadata": {},
   "outputs": [],
   "source": [
    "import sys\n",
    "sys.path.append('..')"
   ]
  },
  {
   "cell_type": "markdown",
   "metadata": {},
   "source": [
    "### Sentencia import\n",
    "\n",
    "El nombre del módulo identifica un fichero para ser cargado, y pasa a ser una variable en el _script_.\n",
    "\n",
    "La setencia `import` lista uno o más nombres de módulos para cargar separados por comas."
   ]
  },
  {
   "cell_type": "code",
   "execution_count": 3,
   "metadata": {},
   "outputs": [
    {
     "name": "stdout",
     "output_type": "stream",
     "text": [
      "Hello world!\n"
     ]
    }
   ],
   "source": [
    "import src.modulo as modulo                      # Get module as a whole (one or more)\n",
    "modulo.printer(\"Hello world!\")                   # Qualify to get names\n",
    "# Hello world!"
   ]
  },
  {
   "cell_type": "markdown",
   "metadata": {},
   "source": [
    "### Sentencia from\n",
    "\n",
    "`from` copia nombres específicos de un fichero a otro ámbito.\n",
    "\n",
    "`from` permite listar uno o más nombres para ser copiados separados por comas."
   ]
  },
  {
   "cell_type": "code",
   "execution_count": 4,
   "metadata": {},
   "outputs": [
    {
     "name": "stdout",
     "output_type": "stream",
     "text": [
      "Hello world!\n"
     ]
    }
   ],
   "source": [
    "from src.modulo import printer      # Copy out a variable (one or more) \n",
    "printer('Hello world!')             # No need to qualify name\n",
    "# Hello world!"
   ]
  },
  {
   "cell_type": "markdown",
   "metadata": {},
   "source": [
    "### Sentencia from *\n",
    "\n",
    "Cuando usamos `*` en cambio de nombres específicos obtenemos copias de todos los nombres asignados al ámbito global del módulo referenciado."
   ]
  },
  {
   "cell_type": "code",
   "execution_count": 5,
   "metadata": {},
   "outputs": [
    {
     "name": "stdout",
     "output_type": "stream",
     "text": [
      "Hello world!\n"
     ]
    }
   ],
   "source": [
    "from src.modulo import *       # Copy out _all_ variables \n",
    "printer('Hello world!')\n",
    "# Hello world!"
   ]
  },
  {
   "cell_type": "markdown",
   "metadata": {},
   "source": [
    "### Sólo se importa una vez\n",
    "\n",
    "Dado que importar es una operación cara, Python por defecto la ejecuta una única vez por fichero, por proceso. \n",
    "\n",
    "Importaciones sucesivas simplemente buscan el objeto que hace referencia al módulo ya cargado."
   ]
  },
  {
   "cell_type": "markdown",
   "metadata": {},
   "source": [
    "```python\n",
    "# modulo_simple\n",
    "print(\"modulo simple\")\n",
    "spam = 1\n",
    "```"
   ]
  },
  {
   "cell_type": "code",
   "execution_count": 6,
   "metadata": {},
   "outputs": [
    {
     "name": "stdout",
     "output_type": "stream",
     "text": [
      "modulo simple\n"
     ]
    }
   ],
   "source": [
    "import src.modulo_simple as simple   # First import: loads and runs file's code hello"
   ]
  },
  {
   "cell_type": "code",
   "execution_count": 7,
   "metadata": {},
   "outputs": [
    {
     "data": {
      "text/plain": [
       "1"
      ]
     },
     "execution_count": 7,
     "metadata": {},
     "output_type": "execute_result"
    }
   ],
   "source": [
    "simple.spam              # the variable spam is initialized at import time\n",
    "# 1"
   ]
  },
  {
   "cell_type": "code",
   "execution_count": 8,
   "metadata": {},
   "outputs": [
    {
     "data": {
      "text/plain": [
       "2"
      ]
     },
     "execution_count": 8,
     "metadata": {},
     "output_type": "execute_result"
    }
   ],
   "source": [
    "simple.spam = 2                                 # Change attribute in module\n",
    "import src.modulo_simple as simple              # Just fetches already loaded module\n",
    "simple.spam                                     # Code wasn't rerun: attribute unchanged\n",
    "# 2"
   ]
  },
  {
   "cell_type": "code",
   "execution_count": 9,
   "metadata": {},
   "outputs": [
    {
     "name": "stdout",
     "output_type": "stream",
     "text": [
      "modulo simple\n"
     ]
    },
    {
     "data": {
      "text/plain": [
       "<module 'src.modulo_simple' from '/home/davidg/Escritorio/codigo/python-fundamentals-nb/notebooks/../src/modulo_simple.py'>"
      ]
     },
     "execution_count": 9,
     "metadata": {},
     "output_type": "execute_result"
    }
   ],
   "source": [
    "# Fuerzo a iPython a que resetee las variables globales y recargue los modulos. \n",
    "# Es necesario para que al \"ejecutar todo\" en el notebook este ejercicio y los siguientes.\n",
    "# Sino, click en \"Reiniciar\"\n",
    "# importlib.reload() recarga un modulo previamente importado.\n",
    "# El argumento debe ser un objeto modulo, así que debe haber sido importado \n",
    "# previamente con exito.\n",
    "import importlib\n",
    "importlib.reload(simple)"
   ]
  },
  {
   "cell_type": "markdown",
   "metadata": {},
   "source": [
    "### import y from son asignaciones\n",
    "\n",
    "Como `def`, `import` y `from` son sentencias ejecutables, no declaraciones en tiempo de compilación. \n",
    "\n",
    "- Puedes anidarse en sentencias `if`; \n",
    "- aparecer en las definiciones de funciones, para ser cargados sólo en las llamdas de la función;\n",
    "- ser usadas en sentencias `try` para proveer comportamiento por defecto.\n",
    "\n",
    "No se resuelven o ejecutan hasta que Python las alcanza mientras se ejecuta el programa.\n",
    "\n",
    "### Cambiando mutables en modulos\n",
    "\n",
    "También como `def`, the `import` and `from` son asignaciones implícitas:\n",
    "\n",
    "- `import` asigna un objeto módulo entero a un único nombre.\n",
    "- `from` asigna uno o más nombres a objetos con los mismos nombres en otro módulo."
   ]
  },
  {
   "cell_type": "code",
   "execution_count": 10,
   "metadata": {},
   "outputs": [],
   "source": [
    "# modulo_small\n",
    "x = 1\n",
    "y = [1, 2]"
   ]
  },
  {
   "cell_type": "code",
   "execution_count": 11,
   "metadata": {},
   "outputs": [
    {
     "data": {
      "text/plain": [
       "(42, [42, 2])"
      ]
     },
     "execution_count": 11,
     "metadata": {},
     "output_type": "execute_result"
    }
   ],
   "source": [
    "from src.modulo_small import x, y       # Copy two names out\n",
    "x = 42                                  # Changes local x only\n",
    "y[0] = 42                               # Changes shared mutable in place\n",
    "x, y"
   ]
  },
  {
   "cell_type": "markdown",
   "metadata": {},
   "source": [
    "`x` no es un objeto compartido mutable, pero `y` sí:"
   ]
  },
  {
   "cell_type": "code",
   "execution_count": 12,
   "metadata": {},
   "outputs": [
    {
     "data": {
      "text/plain": [
       "(1, [42, 2])"
      ]
     },
     "execution_count": 12,
     "metadata": {},
     "output_type": "execute_result"
    }
   ],
   "source": [
    "import src.modulo_small as small    # Get module name (from doesn't)\n",
    "small.x                             # Small's x is not my x\n",
    "# 1\n",
    "small.x, small.y                    # But we share a changed mutable\n",
    "# small.y == [42, 2]"
   ]
  },
  {
   "cell_type": "markdown",
   "metadata": {},
   "source": [
    "#### Cambios de nombres entre ficheros"
   ]
  },
  {
   "cell_type": "code",
   "execution_count": 13,
   "metadata": {},
   "outputs": [
    {
     "data": {
      "text/plain": [
       "(42, 1)"
      ]
     },
     "execution_count": 13,
     "metadata": {},
     "output_type": "execute_result"
    }
   ],
   "source": [
    "from src.modulo_small import x, y       # Copy two names out \n",
    "x = 42                                  # Changes my x only\n",
    "import src.modulo_small as small        # Get module name\n",
    "x, small.x     # 1\n",
    "# small.x = 42                          # Changes x in other module"
   ]
  },
  {
   "cell_type": "code",
   "execution_count": 14,
   "metadata": {},
   "outputs": [
    {
     "data": {
      "text/plain": [
       "<module 'src.modulo_small' from '/home/davidg/Escritorio/codigo/python-fundamentals-nb/notebooks/../src/modulo_small.py'>"
      ]
     },
     "execution_count": 14,
     "metadata": {},
     "output_type": "execute_result"
    }
   ],
   "source": [
    "importlib.reload(small)"
   ]
  },
  {
   "cell_type": "markdown",
   "metadata": {},
   "source": [
    "### When import is required\n",
    "\n",
    "The only time you really must use ``import`` instead of ``from`` is when you must use the same name defined in two different modules.\n",
    "\n",
    "```py\n",
    "# M.py\n",
    "def func():\n",
    "...do something...\n",
    "\n",
    "# N.py\n",
    "def func():\n",
    "...do something else...\n",
    "```\n",
    "\n",
    "```py\n",
    "# O.py\n",
    "from M import func  # This overwrites the one we fetched from M func()\n",
    "from N import func  # Calls N.func only!\n",
    "```\n",
    "\n",
    "```py\n",
    "# O.py\n",
    "import M, N         # Get the whole modules, not their names\n",
    "M.func()            # We can call both names now\n",
    "N.func()            # The module names make them unique           \n",
    "```"
   ]
  },
  {
   "cell_type": "markdown",
   "metadata": {},
   "source": [
    "### Namespace Dictionaries: __dict__\n",
    "\n",
    "module namespaces are stored as dictionary objects."
   ]
  },
  {
   "cell_type": "code",
   "execution_count": 16,
   "metadata": {},
   "outputs": [
    {
     "data": {
      "text/plain": [
       "['__name__',\n",
       " '__doc__',\n",
       " '__package__',\n",
       " '__loader__',\n",
       " '__spec__',\n",
       " '__file__',\n",
       " '__cached__',\n",
       " '__builtins__',\n",
       " 'x',\n",
       " 'y']"
      ]
     },
     "execution_count": 16,
     "metadata": {},
     "output_type": "execute_result"
    }
   ],
   "source": [
    "list(small.__dict__.keys())"
   ]
  },
  {
   "cell_type": "code",
   "execution_count": 17,
   "metadata": {},
   "outputs": [
    {
     "data": {
      "text/plain": [
       "['x', 'y']"
      ]
     },
     "execution_count": 17,
     "metadata": {},
     "output_type": "execute_result"
    }
   ],
   "source": [
    "list(name for name in small.__dict__.keys() if not name.startswith('__'))"
   ]
  },
  {
   "cell_type": "markdown",
   "metadata": {},
   "source": [
    "## Mixed Usage Modes: __name__ and __main__\n",
    "\n",
    "Each module has a built-in attribute called __name__, which Python creates and assigns automatically as follows:\n",
    "\n",
    "- If the file is being run as a top-level program file, __name__ is set to the string\n",
    "\"__main__\" when it starts.\n",
    "- If the file is being imported instead, __name__ is set to the module’s name as known\n",
    "by its clients.\n",
    "\n",
    "The upshot is that a module can test its own __name__ to determine whether it’s being\n",
    "run or imported.\n",
    "\n",
    "```py\n",
    "def tester():\n",
    "    print(\"It's Christmas in Heaven...\")    \n",
    "if __name__ == '__main__':                  # Only when run\n",
    "    tester()                                # Not when imported\n",
    "```\n",
    "\n",
    "This module defines a function for clients to import and use as usual:\n",
    "```sh\n",
    ">>> import runme\n",
    ">>> runme.tester()\n",
    "It's Christmas in Heaven...\n",
    "```\n",
    "\n",
    "But the module also includes code at the bottom that is set up to call the function automatically when this file is run as a program:\n",
    "\n",
    "```sh\n",
    "c:\\code> python runme.py\n",
    "It's Christmas in Heaven...\n",
    "```\n",
    "\n",
    "In effect, a module’s __name__ variable serves as a usage mode flag, allowing its code to\n",
    "be leveraged as both an importable library and a top-level script.\n",
    "\n",
    "the __name__ test applied is for self-test code. You can use the file in clients by importing it, but also test its logic by running it from the system shell."
   ]
  }
 ],
 "metadata": {
  "kernelspec": {
   "display_name": "Python 3",
   "language": "python",
   "name": "python3"
  },
  "language_info": {
   "codemirror_mode": {
    "name": "ipython",
    "version": 3
   },
   "file_extension": ".py",
   "mimetype": "text/x-python",
   "name": "python",
   "nbconvert_exporter": "python",
   "pygments_lexer": "ipython3",
   "version": "3.12.3"
  }
 },
 "nbformat": 4,
 "nbformat_minor": 2
}
