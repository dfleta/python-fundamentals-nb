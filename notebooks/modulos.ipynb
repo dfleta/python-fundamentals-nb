{
 "cells": [
  {
   "cell_type": "markdown",
   "metadata": {},
   "source": [
    "Módulos Python\n",
    "==============\n",
    "\n",
    "### Module Creation\n",
    "\n",
    "Type the following def into a file called `modulo.py` to create a module object with one attribute—the name printer."
   ]
  },
  {
   "cell_type": "code",
   "execution_count": 3,
   "metadata": {},
   "outputs": [],
   "source": [
    "def printer(x):     # Module attribute print(x)\n",
    "    print(x)"
   ]
  },
  {
   "cell_type": "markdown",
   "metadata": {},
   "source": [
    "## Uso de módulos\n",
    "\n",
    "Clients can use the simple module file we just wrote by running an import or from statement. Both statements find, compile, and run a module file’s code, if it hasn’t yet been loaded.\n",
    "\n",
    "`import` fetches the module as a whole, so you must qualify to fetch its names; in contrast, `from` fetches (or copies) specific names out of the module.\n",
    "\n",
    "### The import Statement\n",
    "\n",
    "the name modulo identifies an external file to be loaded, and it becomes a variable in the script.\n",
    "\n",
    "The import statement simply lists one or more names of modules to load, separated by commas."
   ]
  },
  {
   "cell_type": "markdown",
   "metadata": {},
   "source": [
    "### sys.path\n",
    "\n",
    "Cuando ejecuto un programa python el directorio desde el que se ejecuta la busqueda de modulos es el directorio desde el que se invoca en consola python3.\n",
    "\n",
    "La búsqueda de módulos se inicializa cuando se inicia Python. Se puede acceder a esta ruta de búsqueda de módulos mediante sys.path.\n",
    "\n",
    "Añado `..` a esta ruta para que las importaciones `src.modulo` se resuelvan correctamente ya que hay que \"subir\" hasta el directorio padre del proyecto para encontrar el directorio `src` (es imposible encontrarlo en `notebooks`)."
   ]
  },
  {
   "cell_type": "code",
   "execution_count": 4,
   "metadata": {},
   "outputs": [],
   "source": [
    "import sys\n",
    "sys.path.append('..')"
   ]
  },
  {
   "cell_type": "code",
   "execution_count": 5,
   "metadata": {},
   "outputs": [
    {
     "name": "stdout",
     "output_type": "stream",
     "text": [
      "Hello world!\n"
     ]
    }
   ],
   "source": [
    "import src.modulo as modulo                      # Get module as a whole (one or more)\n",
    "modulo.printer(\"Hello world!\")     # Qualify to get names\n",
    "# Hello world!"
   ]
  },
  {
   "cell_type": "markdown",
   "metadata": {},
   "source": [
    "### The from statement\n",
    "\n",
    "`from` copies specific names from one file over to another scope.\n",
    "\n",
    "from allows us to list one or more names to be copied out, separated by commas."
   ]
  },
  {
   "cell_type": "code",
   "execution_count": 13,
   "metadata": {},
   "outputs": [
    {
     "name": "stdout",
     "output_type": "stream",
     "text": [
      "Hello world!\n"
     ]
    }
   ],
   "source": [
    "from src.modulo import printer     # Copy out a variable (one or more) \n",
    "printer('Hello world!')         # No need to qualify name\n",
    "# Hello world!"
   ]
  },
  {
   "cell_type": "markdown",
   "metadata": {},
   "source": [
    "### The from * Statement\n",
    "\n",
    "When we use a * instead of specific names, we get copies of all names assigned at the top level of the referenced module."
   ]
  },
  {
   "cell_type": "code",
   "execution_count": 14,
   "metadata": {},
   "outputs": [
    {
     "name": "stdout",
     "output_type": "stream",
     "text": [
      "Hello world!\n"
     ]
    }
   ],
   "source": [
    "from src.modulo import *       # Copy out _all_ variables \n",
    "printer('Hello world!')\n",
    "# Hello world!"
   ]
  },
  {
   "cell_type": "markdown",
   "metadata": {},
   "source": [
    "### Imports Happen Only Once\n",
    "\n",
    "because importing is an expensive operation, by default Python does it just once per file, per process. Later import operations simply fetch the already loaded module object."
   ]
  },
  {
   "cell_type": "markdown",
   "metadata": {},
   "source": [
    "```python\n",
    "# modulo_simple\n",
    "print(\"modulo simple\")\n",
    "spam = 1\n",
    "```"
   ]
  },
  {
   "cell_type": "code",
   "execution_count": 8,
   "metadata": {},
   "outputs": [
    {
     "name": "stdout",
     "output_type": "stream",
     "text": [
      "modulo simple\n"
     ]
    }
   ],
   "source": [
    "import modulo_simple           # First import: loads and runs file's code hello"
   ]
  },
  {
   "cell_type": "code",
   "execution_count": 9,
   "metadata": {},
   "outputs": [
    {
     "data": {
      "text/plain": [
       "1"
      ]
     },
     "execution_count": 9,
     "metadata": {},
     "output_type": "execute_result"
    }
   ],
   "source": [
    "modulo_simple.spam              # the variable spam is initialized at import time\n",
    "# 1"
   ]
  },
  {
   "cell_type": "code",
   "execution_count": 10,
   "metadata": {},
   "outputs": [
    {
     "data": {
      "text/plain": [
       "2"
      ]
     },
     "execution_count": 10,
     "metadata": {},
     "output_type": "execute_result"
    }
   ],
   "source": [
    "modulo_simple.spam = 2          # Change attribute in module\n",
    "import modulo_simple            # Just fetches already loaded module\n",
    "modulo_simple.spam              # Code wasn't rerun: attribute unchanged\n",
    "# 2"
   ]
  },
  {
   "cell_type": "markdown",
   "metadata": {},
   "source": [
    "### import and from are Assignments\n",
    "\n",
    "Just like def, import and from are executable statements, not compile-time declarations. \n",
    "\n",
    "- They may be nested in if tests, to select among options; \n",
    "- appear in function defs, to be loaded only on calls (subject to the preceding note);\n",
    "- be used in try statements, to pro- vide defaults\n",
    "\n",
    "They are not resolved or run until Python reaches them while executing your program\n",
    "\n",
    "\n",
    "#### Changing mutables in modules\n",
    "\n",
    "Also, like def, the import and from are implicit assignments:\n",
    "\n",
    "- import assigns an entire module object to a single name.\n",
    "- from assigns one or more names to objects of the same names in another module."
   ]
  },
  {
   "cell_type": "code",
   "execution_count": 11,
   "metadata": {},
   "outputs": [],
   "source": [
    "# modulo_small\n",
    "x = 1\n",
    "y = [1, 2]"
   ]
  },
  {
   "cell_type": "code",
   "execution_count": 12,
   "metadata": {},
   "outputs": [
    {
     "data": {
      "text/plain": [
       "(42, [42, 2])"
      ]
     },
     "execution_count": 12,
     "metadata": {},
     "output_type": "execute_result"
    }
   ],
   "source": [
    "from modulo_small import x, y          # Copy two names out\n",
    "x = 42                                  # Changes local x only\n",
    "y[0] = 42                               # Changes shared mutable in place\n",
    "x, y"
   ]
  }
 ],
 "metadata": {
  "kernelspec": {
   "display_name": "3.11",
   "language": "python",
   "name": "python3"
  },
  "language_info": {
   "codemirror_mode": {
    "name": "ipython",
    "version": 3
   },
   "file_extension": ".py",
   "mimetype": "text/x-python",
   "name": "python",
   "nbconvert_exporter": "python",
   "pygments_lexer": "ipython3",
   "version": "3.11.5"
  }
 },
 "nbformat": 4,
 "nbformat_minor": 2
}
