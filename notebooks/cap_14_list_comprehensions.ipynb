{
 "cells": [
  {
   "cell_type": "markdown",
   "metadata": {},
   "source": [
    "# Cap 14: Iterations and Comprehensions \n",
    "\n",
    "Anytime we start thinking about performing an operation on each item in a sequence, we’re in the realm of list comprehensions."
   ]
  },
  {
   "cell_type": "code",
   "execution_count": 1,
   "metadata": {},
   "outputs": [
    {
     "data": {
      "text/plain": [
       "[11, 12, 13, 14, 15]"
      ]
     },
     "execution_count": 1,
     "metadata": {},
     "output_type": "execute_result"
    }
   ],
   "source": [
    "L = [1, 2, 3, 4, 5]\n",
    "for i in range(len(L)):\n",
    "    L[i] += 10\n",
    "L\n",
    "# [11, 12, 13, 14, 15]"
   ]
  },
  {
   "cell_type": "code",
   "execution_count": 2,
   "metadata": {},
   "outputs": [
    {
     "data": {
      "text/plain": [
       "[21, 22, 23, 24, 25]"
      ]
     },
     "execution_count": 2,
     "metadata": {},
     "output_type": "execute_result"
    }
   ],
   "source": [
    "L = [x + 10 for x in L]\n",
    "L\n",
    "# [21, 22, 23, 24, 25]"
   ]
  },
  {
   "cell_type": "code",
   "execution_count": 3,
   "metadata": {},
   "outputs": [
    {
     "data": {
      "text/plain": [
       "[31, 32, 33, 34, 35]"
      ]
     },
     "execution_count": 3,
     "metadata": {},
     "output_type": "execute_result"
    }
   ],
   "source": [
    "# Es lo mismo que:\n",
    "res = []\n",
    "for x in L:\n",
    "\tres.append(x + 10)\n",
    "res\n",
    "# [31, 32, 33, 34, 35]"
   ]
  },
  {
   "cell_type": "markdown",
   "metadata": {},
   "source": [
    "To run the expression, Python executes an iteration across `L` inside the interpreter, assigning `x` to each item in turn, and collects the results of running the items through the expression on the left side.\n",
    "\n",
    "The result list we get back is exactly what the list comprehension says—a new list containing `x + 10` , for every `x in L`.\n",
    "\n",
    "__list comprehensions are more concise to write__, and because this code pattern of building up result lists is so common in Python work.\n",
    "\n",
    "Depending on your Python and code, **list comprehensions might run much faster than manual for loop statements** (often roughly twice as fast) because their __iterations are performed at C language speed inside the interpreter__, rather than with manual Python code. Especially for larger data sets, there is often a major\n",
    "performance advantage to using this expression."
   ]
  },
  {
   "cell_type": "markdown",
   "metadata": {},
   "source": [
    "## Extended List Comprehension Syntax\n",
    "\n",
    "### Filter clauses: `if`\n",
    "\n",
    "As one particularly useful extension, the `for` loop nested in a comprehension expression can have an associated `if` clause to filter out of the result items for which the test is not `true`."
   ]
  },
  {
   "cell_type": "code",
   "execution_count": 4,
   "metadata": {},
   "outputs": [
    {
     "data": {
      "text/plain": [
       "[1]"
      ]
     },
     "execution_count": 4,
     "metadata": {},
     "output_type": "execute_result"
    }
   ],
   "source": [
    "#### Ejemplo: crear lista con los valores menores que 5 de una lista dada.\n",
    "L = [1, 7, 8, 9]\n",
    "M = [ x  for x in L if x < 5 ]\n",
    "M\n",
    "# [1]"
   ]
  },
  {
   "cell_type": "markdown",
   "metadata": {},
   "source": [
    "### Nested loops: `for`\n",
    "List comprehensions can become even more complex if we need them to for instance, they may contain nested loops, coded as a series of `for` clauses.\n",
    "\n",
    "As usual in programming, if something is difficult for you to understand, it’s probably not a good idea!!!"
   ]
  },
  {
   "cell_type": "code",
   "execution_count": 5,
   "metadata": {},
   "outputs": [
    {
     "data": {
      "text/plain": [
       "['al', 'am', 'an', 'bl', 'bm', 'bn', 'cl', 'cm', 'cn']"
      ]
     },
     "execution_count": 5,
     "metadata": {},
     "output_type": "execute_result"
    }
   ],
   "source": [
    "[ x + y for x in 'abc' for y in 'lmn' ]\n",
    "# ['al', 'am', 'an', 'bl', 'bm', 'bn', 'cl', 'cm', 'cn']"
   ]
  },
  {
   "cell_type": "code",
   "execution_count": 6,
   "metadata": {},
   "outputs": [
    {
     "data": {
      "text/plain": [
       "['al', 'am', 'an', 'bl', 'bm', 'bn', 'cl', 'cm', 'cn']"
      ]
     },
     "execution_count": 6,
     "metadata": {},
     "output_type": "execute_result"
    }
   ],
   "source": [
    "# Es lo mismo que:\n",
    "res = []\n",
    "for x in 'abc':\n",
    "\tfor y in 'lmn':\n",
    "\t\tres.append(x + y)\n",
    "res\n",
    "# ['al', 'am', 'an', 'bl', 'bm', 'bn', 'cl', 'cm', 'cn']∫"
   ]
  },
  {
   "cell_type": "markdown",
   "metadata": {},
   "source": [
    "### Tuples (pag 279)\n",
    "List comprehensions can also be used to convert tuples. The following, for example, makes a list from a tuple, adding 20 to each item along the way:"
   ]
  },
  {
   "cell_type": "code",
   "execution_count": 7,
   "metadata": {},
   "outputs": [
    {
     "data": {
      "text/plain": [
       "[21, 22, 23, 24, 25]"
      ]
     },
     "execution_count": 7,
     "metadata": {},
     "output_type": "execute_result"
    }
   ],
   "source": [
    "T = (1, 2, 3, 4, 5)\n",
    "L = [ x + 20 for x in T ]\n",
    "L\n",
    "# [21, 22, 23, 24, 25]"
   ]
  },
  {
   "cell_type": "markdown",
   "metadata": {},
   "source": [
    "### Range"
   ]
  },
  {
   "cell_type": "code",
   "execution_count": 8,
   "metadata": {},
   "outputs": [
    {
     "data": {
      "text/plain": [
       "[0, 1, 2, 3, 4, 5, 6, 7, 8]"
      ]
     },
     "execution_count": 8,
     "metadata": {},
     "output_type": "execute_result"
    }
   ],
   "source": [
    "# Ejemplo: Crea una lista de números del 0 al 9 a partir del iterable range()\n",
    "L = [ x for x in range(0,9) ]\n",
    "L\n",
    "# [0, 1, 2, 3, 4, 5, 6, 7, 8]"
   ]
  },
  {
   "cell_type": "markdown",
   "metadata": {},
   "source": [
    "## Dictionary comprehensions in 3.X and 2.7\n",
    "\n",
    "### Ejemplo 1\n",
    "\n",
    "#### zip(*iterables)\n",
    "\n",
    "Make an iterator that aggregates elements from each of the iterables.\n",
    "\n",
    "[funcion zip en librería Python](https://docs.python.org/3.3/library/functions.html#zip)"
   ]
  },
  {
   "cell_type": "code",
   "execution_count": 9,
   "metadata": {},
   "outputs": [
    {
     "data": {
      "text/plain": [
       "[(1, 4), (2, 5), (3, 6)]"
      ]
     },
     "execution_count": 9,
     "metadata": {},
     "output_type": "execute_result"
    }
   ],
   "source": [
    "x = [1, 2, 3]\n",
    "y = [4, 5, 6]\n",
    "zipped = zip(x, y)\n",
    "list(zipped)\n",
    "# [(1, 4), (2, 5), (3, 6)]"
   ]
  },
  {
   "cell_type": "markdown",
   "metadata": {},
   "source": [
    "Returns an iterator of tuples, where the i-th tuple contains the i-th element from each of the argument sequences or iterables. The iterator stops when the shortest input iterable is exhausted"
   ]
  },
  {
   "cell_type": "code",
   "execution_count": 10,
   "metadata": {},
   "outputs": [
    {
     "data": {
      "text/plain": [
       "[(0, 5), (1, 6), (2, 7), (3, 8), (4, 9)]"
      ]
     },
     "execution_count": 10,
     "metadata": {},
     "output_type": "execute_result"
    }
   ],
   "source": [
    "L = [ x for x in range(0,5) ]\n",
    "M = [ x for x in range(5,10) ]\n",
    "[elemento for elemento in zip(L,M) ]\n",
    "# [(4, 9), (4, 9), (4, 9), (4, 9), (4, 9)]"
   ]
  },
  {
   "cell_type": "code",
   "execution_count": 11,
   "metadata": {},
   "outputs": [
    {
     "data": {
      "text/plain": [
       "{'a': 1, 'b': 2, 'c': 3}"
      ]
     },
     "execution_count": 11,
     "metadata": {},
     "output_type": "execute_result"
    }
   ],
   "source": [
    "# Zip together keys and values\n",
    "\n",
    "list(zip(['a', 'b', 'c'], [1, 2, 3]))\t\t\n",
    "# [('a', 1), ('b', 2), ('c', 3)] \n",
    "\n",
    "# Make a dict from zip result\n",
    "\n",
    "D = dict(zip(['a', 'b', 'c'], [1, 2, 3]))\t\n",
    "D\n",
    "# {'b': 2, 'c': 3, 'a': 1}\n",
    "\n",
    "# Es lo mismo que:\n",
    "D = {k: v for (k, v) in zip(['a', 'b', 'c'], [1, 2, 3])}\n",
    "D\n",
    "# {'b': 2, 'c': 3, 'a': 1}"
   ]
  },
  {
   "cell_type": "markdown",
   "metadata": {},
   "source": [
    "### Ejemplo 2"
   ]
  },
  {
   "cell_type": "code",
   "execution_count": 12,
   "metadata": {},
   "outputs": [
    {
     "data": {
      "text/plain": [
       "{'a': 0, 'b': 0, 'c': 0}"
      ]
     },
     "execution_count": 12,
     "metadata": {},
     "output_type": "execute_result"
    }
   ],
   "source": [
    "# Initialize dict from keys\n",
    "\n",
    "D = dict.fromkeys(['a', 'b', 'c'], 0)\t\t\n",
    "D\n",
    "# {'b': 0, 'c': 0, 'a': 0} \n",
    "\n",
    "# Same, but with a comprehension\n",
    "\n",
    "D = { k:0 for k in ['a', 'b', 'c'] }\t\t\t\n",
    "D\n",
    "# {'b': 0, 'c': 0, 'a': 0}"
   ]
  },
  {
   "cell_type": "code",
   "execution_count": 13,
   "metadata": {},
   "outputs": [
    {
     "data": {
      "text/plain": [
       "{'s': None, 'p': None, 'a': None, 'm': None}"
      ]
     },
     "execution_count": 13,
     "metadata": {},
     "output_type": "execute_result"
    }
   ],
   "source": [
    "# Other iterables, default value\n",
    "\n",
    "D = dict.fromkeys('spam')\t\t\t\t\t\n",
    "D\n",
    "# {'s': None, 'p': None, 'a': None, 'm': None} \n",
    "\n",
    "D = { k: None for k in 'spam' }\n",
    "D\n",
    "# {'s': None, 'p': None, 'a': None, 'm': None}"
   ]
  }
 ],
 "metadata": {
  "kernelspec": {
   "display_name": "3.11",
   "language": "python",
   "name": "python3"
  },
  "language_info": {
   "codemirror_mode": {
    "name": "ipython",
    "version": 3
   },
   "file_extension": ".py",
   "mimetype": "text/x-python",
   "name": "python",
   "nbconvert_exporter": "python",
   "pygments_lexer": "ipython3",
   "version": "3.11.5"
  }
 },
 "nbformat": 4,
 "nbformat_minor": 2
}
