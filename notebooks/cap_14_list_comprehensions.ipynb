{
 "cells": [
  {
   "cell_type": "markdown",
   "metadata": {},
   "source": [
    "# Cap 14: Iterations and Comprehensions \n",
    "\n",
    "Cada vez que comenzamos a pensar en realizar una operación sobre cada item de una secuencia, estamos en el terreno de las _list comprehensions_."
   ]
  },
  {
   "cell_type": "code",
   "execution_count": 1,
   "metadata": {},
   "outputs": [
    {
     "data": {
      "text/plain": [
       "[11, 12, 13, 14, 15]"
      ]
     },
     "execution_count": 1,
     "metadata": {},
     "output_type": "execute_result"
    }
   ],
   "source": [
    "L = [1, 2, 3, 4, 5]\n",
    "for i in range(len(L)):\n",
    "    L[i] += 10\n",
    "L\n",
    "# [11, 12, 13, 14, 15]"
   ]
  },
  {
   "cell_type": "code",
   "execution_count": 2,
   "metadata": {},
   "outputs": [
    {
     "data": {
      "text/plain": [
       "[21, 22, 23, 24, 25]"
      ]
     },
     "execution_count": 2,
     "metadata": {},
     "output_type": "execute_result"
    }
   ],
   "source": [
    "L = [x + 10 for x in L]\n",
    "L\n",
    "# [21, 22, 23, 24, 25]"
   ]
  },
  {
   "cell_type": "code",
   "execution_count": 3,
   "metadata": {},
   "outputs": [
    {
     "data": {
      "text/plain": [
       "[31, 32, 33, 34, 35]"
      ]
     },
     "execution_count": 3,
     "metadata": {},
     "output_type": "execute_result"
    }
   ],
   "source": [
    "# Es lo mismo que:\n",
    "res = []\n",
    "for x in L:\n",
    "\tres.append(x + 10)\n",
    "res\n",
    "# [31, 32, 33, 34, 35]"
   ]
  },
  {
   "cell_type": "markdown",
   "metadata": {},
   "source": [
    "Para ejecutar la expresión, Python realiza una iteración sobre `L` dentro del intérprete, asignando `x` a cada elemento de la secuencia y recopilando los resultados de aplicar la expresión del lado izquierdo a cada uno de ellos.\n",
    "\n",
    "La lista resultante que obtenemos es exactamente lo que describe la _list comprehension_: una nueva lista que contiene `x + 10` para cada `x` en `L`.\n",
    "\n",
    "__Las list comprehensions son más concisas de escribir__, y es un patrón de código para construir listas de resultados muy común en el trabajo con Python.\n",
    "\n",
    "Dependiendo de la versión de Python y del código, **las list comprehensions pueden ser mucho más rápidas que las sentencias manuales con bucles for** (a menudo, aproximadamente el doble de rápido) porque sus __iteraciones se realizan a la velocidad del lenguaje C dentro del intérprete__, en lugar de hacerlo con código manual de Python. Especialmente para conjuntos de datos grandes, usar esta expresión suele proporcionar una ventaja significativa de rendimiento."
   ]
  },
  {
   "cell_type": "markdown",
   "metadata": {},
   "source": [
    "## Extended List Comprehension Syntax\n",
    "\n",
    "### Filter clauses: `if`\n",
    "\n",
    "Un `for` loop anidado en una comprehension puede tener asociada una cláusula `if` para filtrar del resultado los items para los cuáles el test no es `true`."
   ]
  },
  {
   "cell_type": "code",
   "execution_count": 4,
   "metadata": {},
   "outputs": [
    {
     "data": {
      "text/plain": [
       "[1]"
      ]
     },
     "execution_count": 4,
     "metadata": {},
     "output_type": "execute_result"
    }
   ],
   "source": [
    "#### Ejemplo: crear lista con los valores menores que 5 de una lista dada.\n",
    "L = [1, 7, 8, 9]\n",
    "M = [ x  for x in L if x < 5 ]\n",
    "M\n",
    "# [1]"
   ]
  },
  {
   "cell_type": "markdown",
   "metadata": {},
   "source": [
    "### Bucles anidados: `for`\n",
    "\n",
    "Las _list comprehensions_ pueden volverse aún más complejas si, por ejemplo, necesitamos que contengan bucles anidados, que se codifican como una serie de cláusulas `for`.\n",
    "\n",
    "Como es habitual en la programación, si algo te resulta difícil de entender, ¡probablemente no sea una buena idea implementarlo así!"
   ]
  },
  {
   "cell_type": "code",
   "execution_count": 5,
   "metadata": {},
   "outputs": [
    {
     "data": {
      "text/plain": [
       "['al', 'am', 'an', 'bl', 'bm', 'bn', 'cl', 'cm', 'cn']"
      ]
     },
     "execution_count": 5,
     "metadata": {},
     "output_type": "execute_result"
    }
   ],
   "source": [
    "[ x + y for x in 'abc' for y in 'lmn' ]\n",
    "# ['al', 'am', 'an', 'bl', 'bm', 'bn', 'cl', 'cm', 'cn']"
   ]
  },
  {
   "cell_type": "code",
   "execution_count": 6,
   "metadata": {},
   "outputs": [
    {
     "data": {
      "text/plain": [
       "['al', 'am', 'an', 'bl', 'bm', 'bn', 'cl', 'cm', 'cn']"
      ]
     },
     "execution_count": 6,
     "metadata": {},
     "output_type": "execute_result"
    }
   ],
   "source": [
    "# Es lo mismo que:\n",
    "res = []\n",
    "for x in 'abc':\n",
    "\tfor y in 'lmn':\n",
    "\t\tres.append(x + y)\n",
    "res\n",
    "# ['al', 'am', 'an', 'bl', 'bm', 'bn', 'cl', 'cm', 'cn']∫"
   ]
  },
  {
   "cell_type": "markdown",
   "metadata": {},
   "source": [
    "### Tuples (pag 279)\n",
    "\n",
    "Podemos usar las _List comprehensions_ para convertir tuples. "
   ]
  },
  {
   "cell_type": "code",
   "execution_count": 1,
   "metadata": {},
   "outputs": [
    {
     "data": {
      "text/plain": [
       "[21, 22, 23, 24, 25]"
      ]
     },
     "execution_count": 1,
     "metadata": {},
     "output_type": "execute_result"
    }
   ],
   "source": [
    "# Crea una lista a partir de una tupla, añadiendo 20 a cada item:\n",
    "T = (1, 2, 3, 4, 5)\n",
    "L = [ x + 20 for x in T ]\n",
    "L\n",
    "# [21, 22, 23, 24, 25]"
   ]
  },
  {
   "cell_type": "markdown",
   "metadata": {},
   "source": [
    "### Range"
   ]
  },
  {
   "cell_type": "code",
   "execution_count": 8,
   "metadata": {},
   "outputs": [
    {
     "data": {
      "text/plain": [
       "[0, 1, 2, 3, 4, 5, 6, 7, 8]"
      ]
     },
     "execution_count": 8,
     "metadata": {},
     "output_type": "execute_result"
    }
   ],
   "source": [
    "# Ejemplo: Crea una lista de números del 0 al 9 a partir del iterable range()\n",
    "L = [ x for x in range(0,9) ]\n",
    "L\n",
    "# [0, 1, 2, 3, 4, 5, 6, 7, 8]"
   ]
  },
  {
   "cell_type": "markdown",
   "metadata": {},
   "source": [
    "## Dictionary comprehensions in 3.X and 2.7\n",
    "\n",
    "### Ejemplo 1\n",
    "\n",
    "#### zip(*iterables)\n",
    "\n",
    "Crear un iterator que agrega elementos de cada uno de los iterables.\n",
    "\n",
    "[funcion zip en librería Python](https://docs.python.org/3.3/library/functions.html#zip)"
   ]
  },
  {
   "cell_type": "code",
   "execution_count": 3,
   "metadata": {},
   "outputs": [
    {
     "data": {
      "text/plain": [
       "[(1, 4), (2, 5), (3, 6)]"
      ]
     },
     "execution_count": 3,
     "metadata": {},
     "output_type": "execute_result"
    }
   ],
   "source": [
    "x = [1, 2, 3]\n",
    "y = [4, 5, 6]\n",
    "zipped = zip(x, y)\n",
    "list(zipped)\n",
    "# [(1, 4), (2, 5), (3, 6)]"
   ]
  },
  {
   "cell_type": "markdown",
   "metadata": {},
   "source": [
    "Devuelve un *iterator* de tuplas, donde la i-ésima tupla contiene el i-ésimo elemento de cada una de las secuencias o *iterables* proporcionados como argumentos. \n",
    "\n",
    "El *iterator* se detiene cuando el iterable de entrada más corto se agota."
   ]
  },
  {
   "cell_type": "code",
   "execution_count": 4,
   "metadata": {},
   "outputs": [
    {
     "data": {
      "text/plain": [
       "[(0, 5), (1, 6), (2, 7), (3, 8)]"
      ]
     },
     "execution_count": 4,
     "metadata": {},
     "output_type": "execute_result"
    }
   ],
   "source": [
    "L = [ x for x in range(0,4) ]\n",
    "M = [ x for x in range(5,10) ]\n",
    "[elemento for elemento in zip(L,M) ]"
   ]
  },
  {
   "cell_type": "code",
   "execution_count": 11,
   "metadata": {},
   "outputs": [
    {
     "data": {
      "text/plain": [
       "{'a': 1, 'b': 2, 'c': 3}"
      ]
     },
     "execution_count": 11,
     "metadata": {},
     "output_type": "execute_result"
    }
   ],
   "source": [
    "# Zip together keys and values\n",
    "\n",
    "list(zip(['a', 'b', 'c'], [1, 2, 3]))\t\t\n",
    "# [('a', 1), ('b', 2), ('c', 3)] \n",
    "\n",
    "# Make a dict from zip result\n",
    "\n",
    "D = dict(zip(['a', 'b', 'c'], [1, 2, 3]))\t\n",
    "D\n",
    "# {'b': 2, 'c': 3, 'a': 1}\n",
    "\n",
    "# Es lo mismo que:\n",
    "D = {k: v for (k, v) in zip(['a', 'b', 'c'], [1, 2, 3])}\n",
    "D\n",
    "# {'b': 2, 'c': 3, 'a': 1}"
   ]
  },
  {
   "cell_type": "markdown",
   "metadata": {},
   "source": [
    "### Ejemplo 2"
   ]
  },
  {
   "cell_type": "code",
   "execution_count": 12,
   "metadata": {},
   "outputs": [
    {
     "data": {
      "text/plain": [
       "{'a': 0, 'b': 0, 'c': 0}"
      ]
     },
     "execution_count": 12,
     "metadata": {},
     "output_type": "execute_result"
    }
   ],
   "source": [
    "# Initialize dict from keys\n",
    "\n",
    "D = dict.fromkeys(['a', 'b', 'c'], 0)\t\t\n",
    "D\n",
    "# {'b': 0, 'c': 0, 'a': 0} \n",
    "\n",
    "# Same, but with a comprehension\n",
    "\n",
    "D = { k:0 for k in ['a', 'b', 'c'] }\t\t\t\n",
    "D\n",
    "# {'b': 0, 'c': 0, 'a': 0}"
   ]
  },
  {
   "cell_type": "code",
   "execution_count": 13,
   "metadata": {},
   "outputs": [
    {
     "data": {
      "text/plain": [
       "{'s': None, 'p': None, 'a': None, 'm': None}"
      ]
     },
     "execution_count": 13,
     "metadata": {},
     "output_type": "execute_result"
    }
   ],
   "source": [
    "# Other iterables, default value\n",
    "\n",
    "D = dict.fromkeys('spam')\t\t\t\t\t\n",
    "D\n",
    "# {'s': None, 'p': None, 'a': None, 'm': None} \n",
    "\n",
    "D = { k: None for k in 'spam' }\n",
    "D\n",
    "# {'s': None, 'p': None, 'a': None, 'm': None}"
   ]
  }
 ],
 "metadata": {
  "kernelspec": {
   "display_name": "Python 3",
   "language": "python",
   "name": "python3"
  },
  "language_info": {
   "codemirror_mode": {
    "name": "ipython",
    "version": 3
   },
   "file_extension": ".py",
   "mimetype": "text/x-python",
   "name": "python",
   "nbconvert_exporter": "python",
   "pygments_lexer": "ipython3",
   "version": "3.11.5"
  }
 },
 "nbformat": 4,
 "nbformat_minor": 2
}
