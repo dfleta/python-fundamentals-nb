{
 "cells": [
  {
   "cell_type": "markdown",
   "metadata": {},
   "source": [
    "Basic Dictionary Operations\n",
    "===========================\n",
    "\n",
    "Los items se almacenan y recuperar por una clave, en vez de por su posición en la estructura.\n",
    "\n",
    "Es una tipo de agregación en el cual el nombre de los items tiene más significado que su posición.\n",
    "\n",
    "Los diccionarios pueden reemplazar muchos de los algoritmos de búsqueda y estructuras de datos que deberías implementar manualmente en lenguajes de bajo nivel.\n",
    "\n",
    "Características:\n",
    "\n",
    "* Se accede a los elementos por su clave o key, no por la posición que ocupan.\n",
    "* Son colecciones no ordenadas de objetos de cualquier tipo, y el tipo de los elementos que lo forman puede ser distinto.\n",
    "* Poseen longitud variable y pueden anidarse.\n",
    "* Son mapas mutables.\n",
    "* Son tablas de referencias a objetos o hash tables.\n",
    "\n",
    "\n",
    "![\"Tabla operaciones basias sobre diccionarios\"](../images/Tabla%208-2%20diccionarios.png)"
   ]
  },
  {
   "cell_type": "code",
   "execution_count": 2,
   "metadata": {},
   "outputs": [
    {
     "data": {
      "text/plain": [
       "{'spam': 2, 'ham': 1, 'eggs': 3}"
      ]
     },
     "execution_count": 2,
     "metadata": {},
     "output_type": "execute_result"
    }
   ],
   "source": [
    "# D = {key: value}\n",
    "D = {'spam': 2, 'ham': 1, 'eggs': 3}        # construir un diccionario\n",
    "D"
   ]
  },
  {
   "cell_type": "markdown",
   "metadata": {},
   "source": [
    "Technically, the ordering is pseudo-random—it’s not truly random"
   ]
  },
  {
   "cell_type": "code",
   "execution_count": 3,
   "metadata": {},
   "outputs": [
    {
     "data": {
      "text/plain": [
       "2"
      ]
     },
     "execution_count": 3,
     "metadata": {},
     "output_type": "execute_result"
    }
   ],
   "source": [
    "D['spam']           # recuperar un valor su clave"
   ]
  },
  {
   "cell_type": "code",
   "execution_count": 4,
   "metadata": {},
   "outputs": [
    {
     "data": {
      "text/plain": [
       "3"
      ]
     },
     "execution_count": 4,
     "metadata": {},
     "output_type": "execute_result"
    }
   ],
   "source": [
    "len(D)      # Numero de entradas del diccionario\n",
    "# 3"
   ]
  },
  {
   "cell_type": "code",
   "execution_count": 6,
   "metadata": {},
   "outputs": [
    {
     "data": {
      "text/plain": [
       "True"
      ]
     },
     "execution_count": 6,
     "metadata": {},
     "output_type": "execute_result"
    }
   ],
   "source": [
    "'ham' in D      # Key membership test alternative\n",
    "# True"
   ]
  },
  {
   "cell_type": "code",
   "execution_count": 7,
   "metadata": {},
   "outputs": [
    {
     "data": {
      "text/plain": [
       "['spam', 'ham', 'eggs']"
      ]
     },
     "execution_count": 7,
     "metadata": {},
     "output_type": "execute_result"
    }
   ],
   "source": [
    "list(D.keys())      # Crear una lista con las claves del diccionario\n",
    "# ['eggs', 'spam', 'ham']"
   ]
  },
  {
   "cell_type": "markdown",
   "metadata": {},
   "source": [
    "Es necesario encerrar el objeto que devuelve `keys()` en el constructor `list` en Python 3.X porque `keys()` en 3.X devuelve un objeto iterable en vez de una lista física."
   ]
  },
  {
   "cell_type": "markdown",
   "metadata": {},
   "source": [
    "## Changing Dictionaries in Place"
   ]
  }
 ],
 "metadata": {
  "kernelspec": {
   "display_name": "Python 3",
   "language": "python",
   "name": "python3"
  },
  "language_info": {
   "codemirror_mode": {
    "name": "ipython",
    "version": 3
   },
   "file_extension": ".py",
   "mimetype": "text/x-python",
   "name": "python",
   "nbconvert_exporter": "python",
   "pygments_lexer": "ipython3",
   "version": "3.12.3"
  }
 },
 "nbformat": 4,
 "nbformat_minor": 2
}
