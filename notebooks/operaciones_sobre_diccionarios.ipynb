{
 "cells": [
  {
   "cell_type": "markdown",
   "metadata": {},
   "source": [
    "Diccionarios\n",
    "============\n",
    "\n",
    "Los items se almacenan y recuperar por una clave, en vez de por su posición en la estructura.\n",
    "\n",
    "Es una tipo de agregación en el cual el nombre de los items tiene más significado que su posición.\n",
    "\n",
    "Los diccionarios pueden reemplazar muchos de los algoritmos de búsqueda y estructuras de datos que deberías implementar manualmente en lenguajes de bajo nivel.\n",
    "\n",
    "Características:\n",
    "\n",
    "* Se accede a los elementos por su clave o key, no por la posición que ocupan.\n",
    "* Son colecciones no ordenadas de objetos de cualquier tipo, y el tipo de los elementos que lo forman puede ser distinto.\n",
    "* Poseen longitud variable y pueden anidarse.\n",
    "* Son mapas mutables.\n",
    "* Son tablas de referencias a objetos o hash tables.\n",
    "\n",
    "\n",
    "![\"Tabla operaciones basias sobre diccionarios\"](../images/Tabla%208-2%20diccionarios.png)"
   ]
  },
  {
   "cell_type": "code",
   "execution_count": 18,
   "metadata": {},
   "outputs": [
    {
     "data": {
      "text/plain": [
       "{'spam': 2, 'ham': 1, 'eggs': 3}"
      ]
     },
     "execution_count": 18,
     "metadata": {},
     "output_type": "execute_result"
    }
   ],
   "source": [
    "# D = {key: value}\n",
    "D = {'spam': 2, 'ham': 1, 'eggs': 3}        # construir un diccionario\n",
    "D"
   ]
  },
  {
   "cell_type": "markdown",
   "metadata": {},
   "source": [
    "Technically, the ordering is pseudo-random—it’s not truly random"
   ]
  },
  {
   "cell_type": "code",
   "execution_count": 19,
   "metadata": {},
   "outputs": [
    {
     "data": {
      "text/plain": [
       "2"
      ]
     },
     "execution_count": 19,
     "metadata": {},
     "output_type": "execute_result"
    }
   ],
   "source": [
    "D['spam']           # recuperar un valor su clave"
   ]
  },
  {
   "cell_type": "code",
   "execution_count": 20,
   "metadata": {},
   "outputs": [
    {
     "data": {
      "text/plain": [
       "3"
      ]
     },
     "execution_count": 20,
     "metadata": {},
     "output_type": "execute_result"
    }
   ],
   "source": [
    "len(D)      # Numero de entradas del diccionario\n",
    "# 3"
   ]
  },
  {
   "cell_type": "code",
   "execution_count": 21,
   "metadata": {},
   "outputs": [
    {
     "data": {
      "text/plain": [
       "True"
      ]
     },
     "execution_count": 21,
     "metadata": {},
     "output_type": "execute_result"
    }
   ],
   "source": [
    "'ham' in D      # Key membership test alternative\n",
    "# True"
   ]
  },
  {
   "cell_type": "code",
   "execution_count": 22,
   "metadata": {},
   "outputs": [
    {
     "data": {
      "text/plain": [
       "['spam', 'ham', 'eggs']"
      ]
     },
     "execution_count": 22,
     "metadata": {},
     "output_type": "execute_result"
    }
   ],
   "source": [
    "list(D.keys())      # Crear una lista con las claves del diccionario\n",
    "# ['eggs', 'spam', 'ham']"
   ]
  },
  {
   "cell_type": "markdown",
   "metadata": {},
   "source": [
    "Es necesario encerrar el objeto que devuelve `keys()` en el constructor `list` en Python 3.X porque `keys()` en 3.X devuelve un objeto iterable en vez de una lista física."
   ]
  },
  {
   "cell_type": "markdown",
   "metadata": {},
   "source": [
    "## Cambiando diccionarios _in place_"
   ]
  },
  {
   "cell_type": "code",
   "execution_count": 23,
   "metadata": {},
   "outputs": [
    {
     "data": {
      "text/plain": [
       "{'spam': 2, 'ham': ['grill', 'bake', 'fry'], 'eggs': 3}"
      ]
     },
     "execution_count": 23,
     "metadata": {},
     "output_type": "execute_result"
    }
   ],
   "source": [
    "D['ham'] = ['grill', 'bake', 'fry']         # Change entry (value=list)\n",
    "D\n",
    "# {'eggs': 3, 'spam': 2, 'ham': ['grill', 'bake', 'fry']}"
   ]
  },
  {
   "cell_type": "code",
   "execution_count": 24,
   "metadata": {},
   "outputs": [
    {
     "data": {
      "text/plain": [
       "{'spam': 2, 'ham': ['grill', 'bake', 'fry']}"
      ]
     },
     "execution_count": 24,
     "metadata": {},
     "output_type": "execute_result"
    }
   ],
   "source": [
    "del D['eggs']               # Delete entry\n",
    "D\n",
    "# {'spam': 2, 'ham': ['grill', 'bake', 'fry']}\n"
   ]
  },
  {
   "cell_type": "markdown",
   "metadata": {},
   "source": [
    "Al contrario que las listas, cuando asignas una nueva clave en un diccionario (una que no haya sido asignada con anterioridad) creas una nueva entrada en el diccioanrio."
   ]
  },
  {
   "cell_type": "code",
   "execution_count": 25,
   "metadata": {},
   "outputs": [
    {
     "data": {
      "text/plain": [
       "{'spam': 2, 'ham': ['grill', 'bake', 'fry'], 'brunch': 'Bacon'}"
      ]
     },
     "execution_count": 25,
     "metadata": {},
     "output_type": "execute_result"
    }
   ],
   "source": [
    "D['brunch'] = 'Bacon'       # Add new entry\n",
    "D\n",
    "# {'brunch': 'Bacon', 'spam': 2, 'ham': ['grill', 'bake', 'fry']}"
   ]
  },
  {
   "cell_type": "markdown",
   "metadata": {},
   "source": [
    "### Métodos de un objeto diccionario\n",
    "\n",
    "#### `values`\n",
    "El método `values` devuelve todos los valores del diccionario.\n"
   ]
  },
  {
   "cell_type": "code",
   "execution_count": 26,
   "metadata": {},
   "outputs": [
    {
     "data": {
      "text/plain": [
       "[2, 1, 3]"
      ]
     },
     "execution_count": 26,
     "metadata": {},
     "output_type": "execute_result"
    }
   ],
   "source": [
    "D = {'spam': 2, 'ham': 1, 'eggs': 3}\n",
    "list(D.values())                \n",
    "# [3, 2, 1]"
   ]
  },
  {
   "cell_type": "markdown",
   "metadata": {},
   "source": [
    "#### `items` \n",
    "`items` devuelve todas las tuplas `(key,value)`."
   ]
  },
  {
   "cell_type": "code",
   "execution_count": 27,
   "metadata": {},
   "outputs": [
    {
     "data": {
      "text/plain": [
       "[('spam', 2), ('ham', 1), ('eggs', 3)]"
      ]
     },
     "execution_count": 27,
     "metadata": {},
     "output_type": "execute_result"
    }
   ],
   "source": [
    "list(D.items())\n",
    "# [('eggs', 3), ('spam', 2), ('ham', 1)]"
   ]
  },
  {
   "cell_type": "markdown",
   "metadata": {},
   "source": [
    "#### `get`\n",
    "\n",
    "Fetching una clave que no existe es normalmente un error, pero el método `get` devuelve `None` como valor por defecto o un valor pasado como por defecto si la clave no existe."
   ]
  },
  {
   "cell_type": "code",
   "execution_count": null,
   "metadata": {},
   "outputs": [],
   "source": [
    "D['toast']      # KeyError: 'toast'   "
   ]
  },
  {
   "cell_type": "code",
   "execution_count": 16,
   "metadata": {},
   "outputs": [
    {
     "data": {
      "text/plain": [
       "2"
      ]
     },
     "execution_count": 16,
     "metadata": {},
     "output_type": "execute_result"
    }
   ],
   "source": [
    "D.get('spam')\n",
    "# 2"
   ]
  },
  {
   "cell_type": "code",
   "execution_count": 17,
   "metadata": {},
   "outputs": [
    {
     "name": "stdout",
     "output_type": "stream",
     "text": [
      "None\n"
     ]
    }
   ],
   "source": [
    "print(D.get('toast'))       # Una clave que no existe\n",
    "# None"
   ]
  },
  {
   "cell_type": "code",
   "execution_count": null,
   "metadata": {},
   "outputs": [],
   "source": [
    "D.get('toast', 88)          # proporcionando un valor por defecto\n",
    "# 88"
   ]
  },
  {
   "cell_type": "markdown",
   "metadata": {},
   "source": [
    "#### `update`\n",
    "\n",
    "El metodo `update` une las claves y valores de un diccionaroi en otro, sobreescribiendo valores de la misma clave si hay conflicto."
   ]
  },
  {
   "cell_type": "code",
   "execution_count": 31,
   "metadata": {},
   "outputs": [
    {
     "data": {
      "text/plain": [
       "{'spam': 2, 'ham': 10, 'eggs': 3, 'toast': 4, 'muffin': 5}"
      ]
     },
     "execution_count": 31,
     "metadata": {},
     "output_type": "execute_result"
    }
   ],
   "source": [
    "# D = {'eggs': 3, 'spam': 2, 'ham': 1}\n",
    "D2 = {'toast':4, 'muffin':5, 'ham': 10}\n",
    "D.update(D2)\n",
    "D\n",
    "# {'eggs': 3, 'muffin': 5, 'toast': 4, 'spam': 2, 'ham': 10}"
   ]
  },
  {
   "cell_type": "markdown",
   "metadata": {},
   "source": [
    "#### `pop`\n",
    "\n",
    "`pop` elimina una clave de un diccionario y devuelve el valor asociado a la clave."
   ]
  },
  {
   "cell_type": "code",
   "execution_count": 32,
   "metadata": {},
   "outputs": [
    {
     "data": {
      "text/plain": [
       "{'spam': 2, 'ham': 10, 'eggs': 3}"
      ]
     },
     "execution_count": 32,
     "metadata": {},
     "output_type": "execute_result"
    }
   ],
   "source": [
    "D.pop('muffin')\n",
    "# 5\n",
    "D.pop('toast')\n",
    "# 4\n",
    "D\n",
    "# {'eggs': 3, 'spam': 2, 'ham': 10}"
   ]
  },
  {
   "cell_type": "markdown",
   "metadata": {},
   "source": [
    "## Ejemplos\n",
    "\n",
    "Movie Database\n"
   ]
  },
  {
   "cell_type": "code",
   "execution_count": 1,
   "metadata": {},
   "outputs": [
    {
     "data": {
      "text/plain": [
       "'The Meaning of Life'"
      ]
     },
     "execution_count": 1,
     "metadata": {},
     "output_type": "execute_result"
    }
   ],
   "source": [
    "table = {'1975': 'Holy Grail', '1979': 'Life of Brian', '1983': 'The Meaning of Life'}\n",
    "year = '1983'\n",
    "movie = table[year]\n",
    "movie\n",
    "# 'The Meaning of Life'"
   ]
  },
  {
   "cell_type": "code",
   "execution_count": 2,
   "metadata": {},
   "outputs": [
    {
     "name": "stdout",
     "output_type": "stream",
     "text": [
      "1975\tHoly Grail\n",
      "1979\tLife of Brian\n",
      "1983\tThe Meaning of Life\n"
     ]
    }
   ],
   "source": [
    "for year in table:                      # Los mismo que: for year in table.keys()\n",
    "    print(year + '\\t' + table[year])"
   ]
  },
  {
   "cell_type": "markdown",
   "metadata": {},
   "source": [
    "Para cualquier diccionario D, `for key in D` funciona de la misma manera que `for key in D.keys()`"
   ]
  },
  {
   "cell_type": "code",
   "execution_count": 3,
   "metadata": {},
   "outputs": [
    {
     "name": "stdout",
     "output_type": "stream",
     "text": [
      "1975\tHoly Grail\n",
      "1979\tLife of Brian\n",
      "1983\tThe Meaning of Life\n"
     ]
    }
   ],
   "source": [
    "for key in table:\n",
    "    print(key + '\\t' + table[key])"
   ]
  },
  {
   "cell_type": "code",
   "execution_count": 4,
   "metadata": {},
   "outputs": [
    {
     "name": "stdout",
     "output_type": "stream",
     "text": [
      "1975\tHoly Grail\n",
      "1979\tLife of Brian\n",
      "1983\tThe Meaning of Life\n"
     ]
    }
   ],
   "source": [
    "for key in table.keys():\n",
    "    print(key + '\\t' + table[key])"
   ]
  },
  {
   "cell_type": "markdown",
   "metadata": {},
   "source": [
    "Mapeando valores a claves:"
   ]
  },
  {
   "cell_type": "code",
   "execution_count": 7,
   "metadata": {},
   "outputs": [
    {
     "data": {
      "text/plain": [
       "'1975'"
      ]
     },
     "execution_count": 7,
     "metadata": {},
     "output_type": "execute_result"
    }
   ],
   "source": [
    "table = {'Holy Grail': '1975', 'Life of Brian': '1979', 'The Meaning of Life': '1983'}\n",
    "table['Holy Grail']"
   ]
  },
  {
   "cell_type": "code",
   "execution_count": 8,
   "metadata": {},
   "outputs": [
    {
     "data": {
      "text/plain": [
       "[('Holy Grail', '1975'),\n",
       " ('Life of Brian', '1979'),\n",
       " ('The Meaning of Life', '1983')]"
      ]
     },
     "execution_count": 8,
     "metadata": {},
     "output_type": "execute_result"
    }
   ],
   "source": [
    "list(table.items())         # lista de tuplas (clave, valor)"
   ]
  },
  {
   "cell_type": "markdown",
   "metadata": {},
   "source": [
    "#### Comprehension syntax"
   ]
  },
  {
   "cell_type": "code",
   "execution_count": 9,
   "metadata": {},
   "outputs": [
    {
     "data": {
      "text/plain": [
       "['Holy Grail']"
      ]
     },
     "execution_count": 9,
     "metadata": {},
     "output_type": "execute_result"
    }
   ],
   "source": [
    "[title for (title, year) in table.items() if year == '1975']"
   ]
  },
  {
   "cell_type": "code",
   "execution_count": 11,
   "metadata": {},
   "outputs": [
    {
     "data": {
      "text/plain": [
       "['Holy Grail']"
      ]
     },
     "execution_count": 11,
     "metadata": {},
     "output_type": "execute_result"
    }
   ],
   "source": [
    "V = '1975'\n",
    "[key for (key, value) in table.items() if value == V]"
   ]
  },
  {
   "cell_type": "code",
   "execution_count": 12,
   "metadata": {},
   "outputs": [
    {
     "data": {
      "text/plain": [
       "['Holy Grail']"
      ]
     },
     "execution_count": 12,
     "metadata": {},
     "output_type": "execute_result"
    }
   ],
   "source": [
    "[key for key in table.keys() if table[key] == V]"
   ]
  },
  {
   "cell_type": "markdown",
   "metadata": {},
   "source": [
    "#### Diccionarios para simular lists: Integer keys\n",
    "\n",
    "Las claves de un diccionario no tienen por qué ser siempre `strings`. Cualquier otro **objeto inmutable** sirv:\n",
    "- **integers**,  que harán que el diccionario pareza una lista.\n",
    "- **Tuples** que permiten claves compuestas. \n",
    "- Objetos definidos por la programadora siempre que tengas los métodos necesarios."
   ]
  },
  {
   "cell_type": "code",
   "execution_count": null,
   "metadata": {},
   "outputs": [],
   "source": [
    "L = []\n",
    "L[99] = 'spam'          # IndexError: list assignment index out of range"
   ]
  },
  {
   "cell_type": "code",
   "execution_count": 15,
   "metadata": {},
   "outputs": [
    {
     "data": {
      "text/plain": [
       "{99: 'spam'}"
      ]
     },
     "execution_count": 15,
     "metadata": {},
     "output_type": "execute_result"
    }
   ],
   "source": [
    "D = {}\n",
    "D[99] = 'spam'\n",
    "D"
   ]
  },
  {
   "cell_type": "markdown",
   "metadata": {},
   "source": [
    "#### Dictionaries como estrucutara de datos _sparse_: Tuple keys"
   ]
  },
  {
   "cell_type": "code",
   "execution_count": 17,
   "metadata": {},
   "outputs": [
    {
     "data": {
      "text/plain": [
       "{(2, 3, 4): 88, (7, 8, 9): 99}"
      ]
     },
     "execution_count": 17,
     "metadata": {},
     "output_type": "execute_result"
    }
   ],
   "source": [
    "Matrix = {}\n",
    "Matrix[(2, 3, 4)] = 88\n",
    "Matrix[(7, 8, 9)] = 99\n",
    "Matrix"
   ]
  },
  {
   "cell_type": "code",
   "execution_count": 18,
   "metadata": {},
   "outputs": [
    {
     "data": {
      "text/plain": [
       "88"
      ]
     },
     "execution_count": 18,
     "metadata": {},
     "output_type": "execute_result"
    }
   ],
   "source": [
    "X = 2; Y = 3; Z = 4\n",
    "Matrix[(X, Y, Z)]\n",
    "# 88"
   ]
  },
  {
   "cell_type": "markdown",
   "metadata": {},
   "source": [
    "#### Diccionarios anidados"
   ]
  },
  {
   "cell_type": "code",
   "execution_count": 21,
   "metadata": {},
   "outputs": [
    {
     "data": {
      "text/plain": [
       "'manager'"
      ]
     },
     "execution_count": 21,
     "metadata": {},
     "output_type": "execute_result"
    }
   ],
   "source": [
    "rec = {'name': 'Bob', \n",
    "       'jobs': ['developer', 'manager'], \n",
    "       'web': 'www.bobs.org/˜Bob', \n",
    "       'home': {'state': 'Overworked', 'zip': 12345}}\n",
    "rec['jobs'][1]"
   ]
  },
  {
   "cell_type": "code",
   "execution_count": 22,
   "metadata": {},
   "outputs": [
    {
     "data": {
      "text/plain": [
       "12345"
      ]
     },
     "execution_count": 22,
     "metadata": {},
     "output_type": "execute_result"
    }
   ],
   "source": [
    "rec['home']['zip']"
   ]
  },
  {
   "cell_type": "markdown",
   "metadata": {},
   "source": [
    "## Cómo crear diccionarios"
   ]
  },
  {
   "cell_type": "code",
   "execution_count": null,
   "metadata": {},
   "outputs": [],
   "source": [
    "{'name': 'Bob', 'age': 40}      # Expresion literal"
   ]
  },
  {
   "cell_type": "code",
   "execution_count": 24,
   "metadata": {},
   "outputs": [],
   "source": [
    "D = {}                          # Asignación dinámica de claves\n",
    "D['name'] = 'Bob'\n",
    "D['age'] = 40"
   ]
  },
  {
   "cell_type": "code",
   "execution_count": 23,
   "metadata": {},
   "outputs": [
    {
     "data": {
      "text/plain": [
       "{'name': 'Bob', 'age': 40}"
      ]
     },
     "execution_count": 23,
     "metadata": {},
     "output_type": "execute_result"
    }
   ],
   "source": [
    "dict(name='Bob', age=40)        # forma dict keyword argument"
   ]
  },
  {
   "cell_type": "code",
   "execution_count": null,
   "metadata": {},
   "outputs": [],
   "source": [
    "dict([('name', 'Bob'), ('age', 40)])        # forma dict tupla key/value"
   ]
  },
  {
   "cell_type": "code",
   "execution_count": null,
   "metadata": {},
   "outputs": [],
   "source": [
    "dict(zip(keyslist, valueslist))             # forma Zipped key/value tuples"
   ]
  },
  {
   "cell_type": "code",
   "execution_count": 25,
   "metadata": {},
   "outputs": [
    {
     "data": {
      "text/plain": [
       "{'a': 0, 'b': 0}"
      ]
     },
     "execution_count": 25,
     "metadata": {},
     "output_type": "execute_result"
    }
   ],
   "source": [
    "dict.fromkeys(['a', 'b'], 0)"
   ]
  },
  {
   "cell_type": "markdown",
   "metadata": {},
   "source": [
    "## Vistas diccionario en 3.X"
   ]
  },
  {
   "cell_type": "code",
   "execution_count": 26,
   "metadata": {},
   "outputs": [
    {
     "data": {
      "text/plain": [
       "dict_keys(['a', 'b', 'c'])"
      ]
     },
     "execution_count": 26,
     "metadata": {},
     "output_type": "execute_result"
    }
   ],
   "source": [
    "D = dict(a=1, b=2, c=3)         # D = {'b': 2, 'c': 3, 'a': 1}\n",
    "K = D.keys()                    # Crea una vista objeto en 3.X, no una lista\n",
    "K\n",
    "# dict_keys(['a', 'b', 'c'])"
   ]
  },
  {
   "cell_type": "code",
   "execution_count": 27,
   "metadata": {},
   "outputs": [
    {
     "data": {
      "text/plain": [
       "['a', 'b', 'c']"
      ]
     },
     "execution_count": 27,
     "metadata": {},
     "output_type": "execute_result"
    }
   ],
   "source": [
    "list(K)"
   ]
  },
  {
   "cell_type": "code",
   "execution_count": 28,
   "metadata": {},
   "outputs": [
    {
     "data": {
      "text/plain": [
       "dict_values([1, 2, 3])"
      ]
     },
     "execution_count": 28,
     "metadata": {},
     "output_type": "execute_result"
    }
   ],
   "source": [
    "V = D.values()              # Ditto para la vista valores e items\n",
    "V"
   ]
  },
  {
   "cell_type": "code",
   "execution_count": 29,
   "metadata": {},
   "outputs": [
    {
     "data": {
      "text/plain": [
       "[1, 2, 3]"
      ]
     },
     "execution_count": 29,
     "metadata": {},
     "output_type": "execute_result"
    }
   ],
   "source": [
    "list(V)"
   ]
  },
  {
   "cell_type": "code",
   "execution_count": 30,
   "metadata": {},
   "outputs": [
    {
     "data": {
      "text/plain": [
       "dict_items([('a', 1), ('b', 2), ('c', 3)])"
      ]
     },
     "execution_count": 30,
     "metadata": {},
     "output_type": "execute_result"
    }
   ],
   "source": [
    "D.items()"
   ]
  },
  {
   "cell_type": "code",
   "execution_count": null,
   "metadata": {},
   "outputs": [],
   "source": [
    "K[0]            # TypeError: 'dict_keys' object is not subscriptable"
   ]
  },
  {
   "cell_type": "code",
   "execution_count": 32,
   "metadata": {},
   "outputs": [
    {
     "data": {
      "text/plain": [
       "'a'"
      ]
     },
     "execution_count": 32,
     "metadata": {},
     "output_type": "execute_result"
    }
   ],
   "source": [
    "list(K)[0]"
   ]
  },
  {
   "cell_type": "code",
   "execution_count": 35,
   "metadata": {},
   "outputs": [
    {
     "data": {
      "text/plain": [
       "{'a': 1, 'c': 3}"
      ]
     },
     "execution_count": 35,
     "metadata": {},
     "output_type": "execute_result"
    }
   ],
   "source": [
    "D = dict(a=1, b=2, c=3)         # D = {'b': 2, 'c': 3, 'a': 1}\n",
    "K = D.keys()\n",
    "V = D.values()\n",
    "del D['b']\n",
    "D"
   ]
  },
  {
   "cell_type": "code",
   "execution_count": 36,
   "metadata": {},
   "outputs": [
    {
     "data": {
      "text/plain": [
       "['a', 'c']"
      ]
     },
     "execution_count": 36,
     "metadata": {},
     "output_type": "execute_result"
    }
   ],
   "source": [
    "list(K)                 # Cambio reflejado en todas las vistas\n",
    "# ['c', 'a']"
   ]
  },
  {
   "cell_type": "code",
   "execution_count": 37,
   "metadata": {},
   "outputs": [
    {
     "data": {
      "text/plain": [
       "[3, 1]"
      ]
     },
     "execution_count": 37,
     "metadata": {},
     "output_type": "execute_result"
    }
   ],
   "source": [
    "list(V)                 # Cambio reflejado en todas las vistas\n",
    "# [3, 1]"
   ]
  },
  {
   "cell_type": "markdown",
   "metadata": {},
   "source": [
    "## Vistas diccionario y sets\n",
    "\n",
    "La vista objeto devuelta por el método `keys` es como un `set` y soporta las operaciones con conjuntos, como la intersección y la unión."
   ]
  },
  {
   "cell_type": "code",
   "execution_count": 38,
   "metadata": {},
   "outputs": [
    {
     "data": {
      "text/plain": [
       "(dict_keys(['a', 'c']), dict_values([1, 3]))"
      ]
     },
     "execution_count": 38,
     "metadata": {},
     "output_type": "execute_result"
    }
   ],
   "source": [
    "K, V"
   ]
  },
  {
   "cell_type": "code",
   "execution_count": 41,
   "metadata": {},
   "outputs": [
    {
     "data": {
      "text/plain": [
       "{'a', 'c', 'x'}"
      ]
     },
     "execution_count": 41,
     "metadata": {},
     "output_type": "execute_result"
    }
   ],
   "source": [
    "K | {'x': 4}            # La vista `keys` es como un `set` "
   ]
  },
  {
   "cell_type": "markdown",
   "metadata": {},
   "source": [
    "La vista `values` no es como un `set`."
   ]
  },
  {
   "cell_type": "code",
   "execution_count": null,
   "metadata": {},
   "outputs": [],
   "source": [
    "V & {'x': 4}            # TypeError: unsupported operand type(s) for &: 'dict_values' and 'dict'"
   ]
  },
  {
   "cell_type": "markdown",
   "metadata": {},
   "source": [
    "La vista `items` genera pares (key, value) que son únicos y hashable (inmutables)."
   ]
  },
  {
   "cell_type": "code",
   "execution_count": null,
   "metadata": {},
   "outputs": [],
   "source": [
    "V & {'x': 4}.values()   # TypeError: unsupported operand type(s) for &: 'dict_values' and 'dict_values'"
   ]
  },
  {
   "cell_type": "markdown",
   "metadata": {},
   "source": [
    "## Ordenando claves"
   ]
  },
  {
   "cell_type": "code",
   "execution_count": 44,
   "metadata": {},
   "outputs": [
    {
     "name": "stdout",
     "output_type": "stream",
     "text": [
      "a 1\n",
      "c 3\n"
     ]
    }
   ],
   "source": [
    "Ks = D.keys()\n",
    "Ks = list(Ks)\n",
    "Ks.sort()\n",
    "for k in Ks:\n",
    "    print(k, D[k])"
   ]
  },
  {
   "cell_type": "code",
   "execution_count": 47,
   "metadata": {},
   "outputs": [
    {
     "name": "stdout",
     "output_type": "stream",
     "text": [
      "a 1\n",
      "b 2\n",
      "c 3\n"
     ]
    }
   ],
   "source": [
    "D = {'b': 2, 'c': 3, 'a': 1}\n",
    "Ks = D.keys()\n",
    "for k in sorted(Ks): \n",
    "    print(k, D[k])"
   ]
  }
 ],
 "metadata": {
  "kernelspec": {
   "display_name": "3.11",
   "language": "python",
   "name": "python3"
  },
  "language_info": {
   "codemirror_mode": {
    "name": "ipython",
    "version": 3
   },
   "file_extension": ".py",
   "mimetype": "text/x-python",
   "name": "python",
   "nbconvert_exporter": "python",
   "pygments_lexer": "ipython3",
   "version": "3.11.5"
  }
 },
 "nbformat": 4,
 "nbformat_minor": 2
}
