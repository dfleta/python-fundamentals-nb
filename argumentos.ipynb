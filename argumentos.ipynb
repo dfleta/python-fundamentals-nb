{
 "cells": [
  {
   "cell_type": "markdown",
   "metadata": {},
   "source": [
    "Chapter 18: Arguments\n",
    "=====================\n",
    "#### Extractos de codigo del libro Learning Python 5th Ed. by Mark Lutz\n",
    "\n",
    "## 1. Arguments and Shared References\n",
    "\n",
    "### Paso de objetos inmutables:\n",
    "\n"
   ]
  },
  {
   "cell_type": "code",
   "execution_count": 1,
   "metadata": {},
   "outputs": [
    {
     "name": "stdout",
     "output_type": "stream",
     "text": [
      "b =  88\n"
     ]
    }
   ],
   "source": [
    "def f(a):\t    # a is assigned to (references) the passed object\n",
    "\ta = 99 \t# Changes local variable a only\n",
    "\n",
    "b = 88\t\t\n",
    "f(b)\t\t# a and b both reference same 88 initially\n",
    "print(\"b = \", b)\t# b is not changed"
   ]
  },
  {
   "cell_type": "markdown",
   "metadata": {},
   "source": [
    "### Paso de objetos mutables:\n"
   ]
  },
  {
   "cell_type": "code",
   "execution_count": 10,
   "metadata": {},
   "outputs": [
    {
     "name": "stdout",
     "output_type": "stream",
     "text": [
      "l =  ['spam', 2]\n"
     ]
    }
   ],
   "source": [
    "\n",
    "def changer(a, b):\t    # Arguments assigned references to objects\n",
    "\t\ta = 2\t\t\t# Changes local name's value only\n",
    "\t\tb[0] = 'spam' \t# Changes shared object in place\t\n",
    "\t\t\t\t\t\n",
    "x = 1\n",
    "l = [1, 2]\n",
    "changer(x, l)           # Caller: Pass immutable and mutable objects\n",
    "print(\"l = \", l)        # ['spam', 2]  # x is unchanged, l is different!\n",
    "assert x == 1, \"x es 1\""
   ]
  },
  {
   "cell_type": "markdown",
   "metadata": {},
   "source": [
    "### Cómo evitar que una routina modifique los elementos mutables:\n",
    "\n",
    "#### - Pasar una copia"
   ]
  },
  {
   "cell_type": "code",
   "execution_count": 5,
   "metadata": {},
   "outputs": [
    {
     "name": "stdout",
     "output_type": "stream",
     "text": [
      "l =  [1, 2]\n"
     ]
    }
   ],
   "source": [
    "\n",
    "l = [1, 2]\n",
    "changer(x, l[:]) \t# Pass a copy, so our 'l' does not change \n",
    "\n",
    "print(\"l = \", l) \n"
   ]
  },
  {
   "cell_type": "markdown",
   "metadata": {},
   "source": [
    "#### - Utilizar invariantes (en las estructuras de datos de entrada)"
   ]
  },
  {
   "cell_type": "code",
   "execution_count": 6,
   "metadata": {},
   "outputs": [
    {
     "name": "stdout",
     "output_type": "stream",
     "text": [
      "l =  [1, 2]\n"
     ]
    }
   ],
   "source": [
    "# Opción 2\n",
    "\n",
    "l = [1, 2]\n",
    "def changer(a, b):\n",
    "    b = b[:]\t\t# Copy input list so we don't impact caller\n",
    "    a = 2\n",
    "    b[0] = 'spam'\t# Changes our list copy only\n",
    "\n",
    "changer(x, l)\n",
    "assert l == [1, 2], \"l es una invariante\"\n",
    "print(\"l = \", l) \n"
   ]
  },
  {
   "cell_type": "markdown",
   "metadata": {},
   "source": [
    "#### - Convertir el objeto mutable a un objeto inmutable:\n"
   ]
  },
  {
   "cell_type": "code",
   "execution_count": 7,
   "metadata": {},
   "outputs": [
    {
     "ename": "TypeError",
     "evalue": "'tuple' object does not support item assignment",
     "output_type": "error",
     "traceback": [
      "\u001b[0;31m---------------------------------------------------------------------------\u001b[0m",
      "\u001b[0;31mTypeError\u001b[0m                                 Traceback (most recent call last)",
      "\u001b[1;32m/home/davidg/Escritorio/codigo/ejercicios LEGB-20230926T103929Z-001/ejercicios LEGB/argumentos.ipynb Celda 10\u001b[0m line \u001b[0;36m6\n\u001b[1;32m      <a href='vscode-notebook-cell:/home/davidg/Escritorio/codigo/ejercicios%20LEGB-20230926T103929Z-001/ejercicios%20LEGB/argumentos.ipynb#X12sZmlsZQ%3D%3D?line=2'>3</a>\u001b[0m \t\ta \u001b[39m=\u001b[39m \u001b[39m2\u001b[39m\t\t\t\n\u001b[1;32m      <a href='vscode-notebook-cell:/home/davidg/Escritorio/codigo/ejercicios%20LEGB-20230926T103929Z-001/ejercicios%20LEGB/argumentos.ipynb#X12sZmlsZQ%3D%3D?line=3'>4</a>\u001b[0m \t\tb[\u001b[39m0\u001b[39m] \u001b[39m=\u001b[39m \u001b[39m'\u001b[39m\u001b[39mspam\u001b[39m\u001b[39m'\u001b[39m   \u001b[39m# TypeError: 'tuple' object does not support item assignment\u001b[39;00m\n\u001b[0;32m----> <a href='vscode-notebook-cell:/home/davidg/Escritorio/codigo/ejercicios%20LEGB-20230926T103929Z-001/ejercicios%20LEGB/argumentos.ipynb#X12sZmlsZQ%3D%3D?line=5'>6</a>\u001b[0m changer(x, \u001b[39mtuple\u001b[39;49m(l))\t\u001b[39m# Pass a tuple, so changes are errors\u001b[39;00m\n\u001b[1;32m      <a href='vscode-notebook-cell:/home/davidg/Escritorio/codigo/ejercicios%20LEGB-20230926T103929Z-001/ejercicios%20LEGB/argumentos.ipynb#X12sZmlsZQ%3D%3D?line=7'>8</a>\u001b[0m \u001b[39massert\u001b[39;00m l \u001b[39m==\u001b[39m [\u001b[39m1\u001b[39m, \u001b[39m2\u001b[39m], \u001b[39m\"\u001b[39m\u001b[39ml es una invariante\u001b[39m\u001b[39m\"\u001b[39m\n\u001b[1;32m      <a href='vscode-notebook-cell:/home/davidg/Escritorio/codigo/ejercicios%20LEGB-20230926T103929Z-001/ejercicios%20LEGB/argumentos.ipynb#X12sZmlsZQ%3D%3D?line=8'>9</a>\u001b[0m \u001b[39mprint\u001b[39m(\u001b[39m\"\u001b[39m\u001b[39ml = \u001b[39m\u001b[39m\"\u001b[39m, l)\n",
      "\u001b[1;32m/home/davidg/Escritorio/codigo/ejercicios LEGB-20230926T103929Z-001/ejercicios LEGB/argumentos.ipynb Celda 10\u001b[0m line \u001b[0;36m4\n\u001b[1;32m      <a href='vscode-notebook-cell:/home/davidg/Escritorio/codigo/ejercicios%20LEGB-20230926T103929Z-001/ejercicios%20LEGB/argumentos.ipynb#X12sZmlsZQ%3D%3D?line=1'>2</a>\u001b[0m \u001b[39mdef\u001b[39;00m \u001b[39mchanger\u001b[39m(a, b):\t   \n\u001b[1;32m      <a href='vscode-notebook-cell:/home/davidg/Escritorio/codigo/ejercicios%20LEGB-20230926T103929Z-001/ejercicios%20LEGB/argumentos.ipynb#X12sZmlsZQ%3D%3D?line=2'>3</a>\u001b[0m \t\ta \u001b[39m=\u001b[39m \u001b[39m2\u001b[39m\t\t\t\n\u001b[0;32m----> <a href='vscode-notebook-cell:/home/davidg/Escritorio/codigo/ejercicios%20LEGB-20230926T103929Z-001/ejercicios%20LEGB/argumentos.ipynb#X12sZmlsZQ%3D%3D?line=3'>4</a>\u001b[0m \t\tb[\u001b[39m0\u001b[39;49m] \u001b[39m=\u001b[39m \u001b[39m'\u001b[39m\u001b[39mspam\u001b[39m\u001b[39m'\u001b[39m\n",
      "\u001b[0;31mTypeError\u001b[0m: 'tuple' object does not support item assignment"
     ]
    }
   ],
   "source": [
    "\n",
    "l = [1, 2]\n",
    "def changer(a, b):\t   \n",
    "\t\ta = 2\t\t\t\n",
    "\t\tb[0] = 'spam'   # TypeError: 'tuple' object does not support item assignment\n",
    "\n",
    "changer(x, tuple(l))\t# Pass a tuple, so changes are errors\n",
    "\n",
    "assert l == [1, 2], \"l es una invariante\"\n",
    "print(\"l = \", l)\n"
   ]
  },
  {
   "cell_type": "markdown",
   "metadata": {},
   "source": [
    "## 2 Special Argument-Matching Modes\n",
    "\n",
    "#### ver figura 06 en Drive\n",
    "\n",
    "Be careful not to confuse the special `name=value` syntax in a function header and a\n",
    "function call; in the call it means a match-by-name keyword argument, while in the\n",
    "header it specifies a default for an optional argument."
   ]
  },
  {
   "cell_type": "markdown",
   "metadata": {},
   "source": [
    "### Keyword and Default Examples\n",
    "\n",
    "#### 1. Comportamiento por defecto:"
   ]
  },
  {
   "cell_type": "code",
   "execution_count": 3,
   "metadata": {},
   "outputs": [
    {
     "name": "stdout",
     "output_type": "stream",
     "text": [
      "1 2 3\n"
     ]
    }
   ],
   "source": [
    "def f(a, b, c): \n",
    "    print(a, b, c)\n",
    "\n",
    "f(1, 2, 3)          # 1 2 3"
   ]
  },
  {
   "cell_type": "markdown",
   "metadata": {},
   "source": [
    "#### 2. Keywords\n",
    "\n",
    "Left-to-right order of the arguments no longer matters when keywords are used because arguments are matched by name, not by position.\n"
   ]
  },
  {
   "cell_type": "code",
   "execution_count": 4,
   "metadata": {},
   "outputs": [
    {
     "name": "stdout",
     "output_type": "stream",
     "text": [
      "1 2 3\n"
     ]
    }
   ],
   "source": [
    "def f(a, b, c): \n",
    "    print(a, b, c)\n",
    "\n",
    "f(c=3, b=2, a=1)    # 1 2 3"
   ]
  },
  {
   "cell_type": "code",
   "execution_count": 5,
   "metadata": {},
   "outputs": [
    {
     "name": "stdout",
     "output_type": "stream",
     "text": [
      "1 2 3\n"
     ]
    }
   ],
   "source": [
    "f(1, c=3, b=2)\t\t# a gets 1 by position, b and c passed by name\n",
    "                    # 1 2 3\n",
    "\n",
    "# they make your calls a bit more self documenting\n",
    "# f(name='Bob', age=40, job='dev')"
   ]
  },
  {
   "cell_type": "markdown",
   "metadata": {},
   "source": [
    "#### 3. Defaults\n",
    "\n",
    "Defaults allow us to make selected function arguments optional; \n",
    "if not passed a value, the argument is assigned its default before the function runs.\n"
   ]
  },
  {
   "cell_type": "code",
   "execution_count": 6,
   "metadata": {},
   "outputs": [
    {
     "name": "stdout",
     "output_type": "stream",
     "text": [
      "1 2 3\n",
      "1 2 3\n"
     ]
    }
   ],
   "source": [
    "\n",
    "def f(a, b=2, c=3): \t# a required, b and c optional\n",
    "\tprint(a, b, c)\n",
    "\n",
    "\n",
    "f(1)        # 1 2 3\n",
    "f(a=1)      # 1 2 3"
   ]
  },
  {
   "cell_type": "markdown",
   "metadata": {},
   "source": [
    " If we pass two values, only `c` gets its default, and with three values, no defaults are used:\n"
   ]
  },
  {
   "cell_type": "code",
   "execution_count": 7,
   "metadata": {},
   "outputs": [
    {
     "name": "stdout",
     "output_type": "stream",
     "text": [
      "1 4 3\n",
      "1 4 5\n",
      "1 2 6\n"
     ]
    }
   ],
   "source": [
    "def f(a, b=2, c=3): \t# a required, b and c optional\n",
    "\tprint(a, b, c)\n",
    "    \n",
    "f(1, 4)     # 1 4 3\n",
    "f(1, 4, 5)\t# Override defaults: 1 4 5\n",
    "\n",
    "f(1, c=6)\t# Choose defaults: 1 2 6"
   ]
  },
  {
   "cell_type": "markdown",
   "metadata": {},
   "source": [
    "#### 4. Combining keywords and defaults\n",
    "\n",
    "Notice again that when keyword arguments are used in the call, the order in which the arguments are listed doesn’t matter; **Python matches by name, not by position**.\n",
    " \n",
    "The caller must supply values for `spam` and `eggs`, but they can be matched by position or by name."
   ]
  },
  {
   "cell_type": "code",
   "execution_count": 8,
   "metadata": {},
   "outputs": [
    {
     "name": "stdout",
     "output_type": "stream",
     "text": [
      "(1, 2, 0, 0)\n",
      "(1, 0, 0, 1)\n",
      "(1, 0, 0, 0)\n",
      "(3, 2, 1, 0)\n",
      "(1, 2, 3, 4)\n"
     ]
    }
   ],
   "source": [
    "\n",
    "def func(spam, eggs, toast=0, ham=0):\n",
    "\tprint((spam, eggs, toast, ham)) \t# First 2 required\n",
    "\n",
    "func(1, 2)\t\t\t\t\t\t\t# Output: (1, 2, 0, 0)\n",
    "func(1, ham=1, eggs=0)\t\t\t\t# Output: (1, 0, 0, 1)\n",
    "func(spam=1, eggs=0)\t\t\t\t# Output: (1, 0, 0, 0)\n",
    "func(toast=1, eggs=2, spam=3)\t\t# Output: (3, 2, 1, 0)\n",
    "func(1, 2, 3, 4) \t\t\t\t\t# Output: (1, 2, 3, 4)\n"
   ]
  },
  {
   "cell_type": "markdown",
   "metadata": {},
   "source": [
    "### 5. Python 3.X Keyword-Only Arguments\n",
    "\n",
    "We can also use a `*` character by itself in the arguments list to indicate that a function\n",
    "does not accept a variable-length argument list but still expects all arguments following\n",
    "the `*` to be passed as keywords."
   ]
  },
  {
   "cell_type": "code",
   "execution_count": 9,
   "metadata": {},
   "outputs": [
    {
     "name": "stdout",
     "output_type": "stream",
     "text": [
      "1 (2,) 3\n",
      "1 () 3\n"
     ]
    },
    {
     "ename": "TypeError",
     "evalue": "kwonly() missing 1 required keyword-only argument: 'c'",
     "output_type": "error",
     "traceback": [
      "\u001b[0;31m---------------------------------------------------------------------------\u001b[0m",
      "\u001b[0;31mTypeError\u001b[0m                                 Traceback (most recent call last)",
      "\u001b[0;32m<ipython-input-9-f9d62b949278>\u001b[0m in \u001b[0;36m<module>\u001b[0;34m\u001b[0m\n\u001b[1;32m      6\u001b[0m \u001b[0mkwonly\u001b[0m\u001b[0;34m(\u001b[0m\u001b[0ma\u001b[0m\u001b[0;34m=\u001b[0m\u001b[0;36m1\u001b[0m\u001b[0;34m,\u001b[0m \u001b[0mc\u001b[0m\u001b[0;34m=\u001b[0m\u001b[0;36m3\u001b[0m\u001b[0;34m)\u001b[0m        \u001b[0;31m# 1 () 3\u001b[0m\u001b[0;34m\u001b[0m\u001b[0;34m\u001b[0m\u001b[0m\n\u001b[1;32m      7\u001b[0m \u001b[0;34m\u001b[0m\u001b[0m\n\u001b[0;32m----> 8\u001b[0;31m \u001b[0mkwonly\u001b[0m\u001b[0;34m(\u001b[0m\u001b[0;36m1\u001b[0m\u001b[0;34m,\u001b[0m \u001b[0;36m2\u001b[0m\u001b[0;34m,\u001b[0m \u001b[0;36m3\u001b[0m\u001b[0;34m)\u001b[0m         \u001b[0;31m# TypeError: kwonly() missing 1 required keyword-only argument: 'c'\u001b[0m\u001b[0;34m\u001b[0m\u001b[0;34m\u001b[0m\u001b[0m\n\u001b[0m",
      "\u001b[0;31mTypeError\u001b[0m: kwonly() missing 1 required keyword-only argument: 'c'"
     ]
    }
   ],
   "source": [
    "def kwonly(a, *b, c):\n",
    "    print(a, b, c)\n",
    "\n",
    "kwonly(1, 2, c=3)       # 1 (2,) 3\n",
    "\n",
    "kwonly(a=1, c=3)        # 1 () 3\n",
    "\n",
    "kwonly(1, 2, 3)         # TypeError: kwonly() missing 1 required keyword-only argument: 'c'"
   ]
  },
  {
   "cell_type": "markdown",
   "metadata": {},
   "source": [
    "You can still use defaults for keyword-only arguments, even though they appear after the `*` in the function header:"
   ]
  },
  {
   "cell_type": "code",
   "execution_count": null,
   "metadata": {},
   "outputs": [],
   "source": [
    "\n",
    "def kwonly(a, *, b='spam', c='ham'):\n",
    "\tprint(a, b, c)\n",
    "\n",
    "kwonly(1)               # 1 spam ham\n",
    "kwonly(1, c=3)          # 1 spam 3\n",
    "kwonly(a=1)             # 1 spam ham\n",
    "kwonly(c=3, b=2, a=1)   # 1 2 3\n",
    "kwonly(1, 2)            # TypeError: kwonly() takes 1 positional argument but 2 were given"
   ]
  },
  {
   "cell_type": "code",
   "execution_count": null,
   "metadata": {},
   "outputs": [],
   "source": [
    "\n",
    "def kwonly(a, *, b, c='spam'):\n",
    "    print(a, b, c)\n",
    "\n",
    "kwonly(1, c='eggs')     # TypeError: kwonly() missing 1 required keyword-only argument: 'b'"
   ]
  }
 ],
 "metadata": {
  "kernelspec": {
   "display_name": "Python 3",
   "language": "python",
   "name": "python3"
  },
  "language_info": {
   "codemirror_mode": {
    "name": "ipython",
    "version": 3
   },
   "file_extension": ".py",
   "mimetype": "text/x-python",
   "name": "python",
   "nbconvert_exporter": "python",
   "pygments_lexer": "ipython3",
   "version": "3.8.10"
  },
  "orig_nbformat": 2
 },
 "nbformat": 4,
 "nbformat_minor": 2
}
